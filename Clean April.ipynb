{
 "cells": [
  {
   "cell_type": "code",
   "execution_count": 1,
   "metadata": {
    "collapsed": true
   },
   "outputs": [],
   "source": [
    "import pandas as pd\n",
    "from glob import glob"
   ]
  },
  {
   "cell_type": "code",
   "execution_count": 2,
   "metadata": {
    "collapsed": false
   },
   "outputs": [
    {
     "data": {
      "text/plain": [
       "['./Raw/raw dump April2016/All complaints during 2012.xls',\n",
       " './Raw/raw dump April2016/All complaints during 2013.xls',\n",
       " './Raw/raw dump April2016/All complaints during 2014.xls',\n",
       " './Raw/raw dump April2016/All complaints during 2015.xls',\n",
       " './Raw/raw dump April2016/All complaints during 2016YTD.xls']"
      ]
     },
     "execution_count": 2,
     "metadata": {},
     "output_type": "execute_result"
    }
   ],
   "source": [
    "april_files = glob('./Raw/raw dump April2016/*All*')\n",
    "april_files"
   ]
  },
  {
   "cell_type": "code",
   "execution_count": 3,
   "metadata": {
    "collapsed": true
   },
   "outputs": [],
   "source": [
    "df_list = [pd.read_excel(file) for file in april_files]\n",
    "april_df = pd.concat(df_list, ignore_index=True)"
   ]
  },
  {
   "cell_type": "code",
   "execution_count": 11,
   "metadata": {
    "collapsed": false
   },
   "outputs": [
    {
     "data": {
      "text/plain": [
       "['Accsued_Officer_FName',\n",
       " 'AccusedOfficer_FName',\n",
       " 'Accused_Appointment_Date',\n",
       " 'Accused_Detail',\n",
       " 'Accused_Officer_FName',\n",
       " 'Accused_Officer_LName',\n",
       " 'Accused_Position',\n",
       " 'Accused_Star',\n",
       " 'Accused_Unit',\n",
       " 'Address',\n",
       " 'Beat',\n",
       " 'CURRENT_CATEGORY',\n",
       " 'CURRENT_CATEGORY_CODE',\n",
       " 'CURRENT_STATUS',\n",
       " 'Complaint_Number',\n",
       " 'Discipline_Code',\n",
       " 'FINDING_CODE',\n",
       " 'INITIAL_CATEGORY',\n",
       " 'INITIAL_CATEGORY_CODE',\n",
       " 'IPRA_Closed_Date',\n",
       " 'IPRA_Investigator_FirstName',\n",
       " 'IPRA_Investigator_LastName',\n",
       " 'Incident_Time_End',\n",
       " 'Incident_Time_Start',\n",
       " 'Involved_Officer_Age',\n",
       " 'Involved_Officer_Detail',\n",
       " 'Involved_Officer_FName',\n",
       " 'Involved_Officer_Lname',\n",
       " 'Involved_Officer_Position',\n",
       " 'Involved_Officer_Race',\n",
       " 'Involved_Officer_Sex',\n",
       " 'Involved_Officer_Unit',\n",
       " 'LOCATION_CODE',\n",
       " 'Notification_Date',\n",
       " 'Recommended_Number_Of_Days',\n",
       " 'Street']"
      ]
     },
     "execution_count": 11,
     "metadata": {},
     "output_type": "execute_result"
    }
   ],
   "source": [
    "april_df.columns = [col.replace(' ', '_') for col in april_df.columns]\n",
    "sorted(april_df.columns.tolist())"
   ]
  },
  {
   "cell_type": "markdown",
   "metadata": {},
   "source": [
    "In April, several of there are multiple fname columns due to misspellings of the column headers. These can be combined, as there are no cases where one column has conflicting information with the other column"
   ]
  },
  {
   "cell_type": "code",
   "execution_count": 15,
   "metadata": {
    "collapsed": false
   },
   "outputs": [
    {
     "name": "stdout",
     "output_type": "stream",
     "text": [
      "0\n",
      "0\n",
      "0\n"
     ]
    }
   ],
   "source": [
    "# confirming there are no conflicting values\n",
    "sub_df = april_df[['Accused_Officer_FName', 'AccusedOfficer_FName']]\n",
    "sub_df = sub_df[(~sub_df.Accused_Officer_FName.isnull()) & \n",
    "                 (~sub_df.AccusedOfficer_FName.isnull())]\n",
    "print(sum(sub_df.Accused_Officer_FName != sub_df.AccusedOfficer_FName))\n",
    "\n",
    "sub_df = april_df[['Accused_Officer_FName', 'Accsued_Officer_FName']]\n",
    "sub_df = sub_df[(~sub_df.Accused_Officer_FName.isnull()) & \n",
    "                (~sub_df.Accsued_Officer_FName.isnull())]\n",
    "print(sum(sub_df.Accused_Officer_FName != sub_df.Accsued_Officer_FName))\n",
    "\n",
    "sub_df = april_df[['Accsued_Officer_FName', 'AccusedOfficer_FName']]\n",
    "sub_df = sub_df[(~sub_df.Accsued_Officer_FName.isnull()) & \n",
    "                (~sub_df.AccusedOfficer_FName.isnull())]\n",
    "print(sum(sub_df.Accsued_Officer_FName != sub_df.AccusedOfficer_FName))"
   ]
  },
  {
   "cell_type": "code",
   "execution_count": 16,
   "metadata": {
    "collapsed": true
   },
   "outputs": [],
   "source": [
    "april_df.Accused_Officer_FName.fillna(april_df.Accsued_Officer_FName, inplace=True)\n",
    "april_df.Accused_Officer_FName.fillna(april_df.AccusedOfficer_FName, inplace=True)\n",
    "april_df.drop(['Accsued_Officer_FName', 'AccusedOfficer_FName'], axis=1, inplace=True)"
   ]
  },
  {
   "cell_type": "code",
   "execution_count": 17,
   "metadata": {
    "collapsed": false
   },
   "outputs": [
    {
     "data": {
      "text/plain": [
       "['Accused_Appointment_Date',\n",
       " 'Accused_Detail',\n",
       " 'Accused_Officer_FName',\n",
       " 'Accused_Officer_LName',\n",
       " 'Accused_Position',\n",
       " 'Accused_Star',\n",
       " 'Accused_Unit',\n",
       " 'Address',\n",
       " 'Beat',\n",
       " 'CURRENT_CATEGORY',\n",
       " 'CURRENT_CATEGORY_CODE',\n",
       " 'CURRENT_STATUS',\n",
       " 'Complaint_Number',\n",
       " 'Discipline_Code',\n",
       " 'FINDING_CODE',\n",
       " 'INITIAL_CATEGORY',\n",
       " 'INITIAL_CATEGORY_CODE',\n",
       " 'IPRA_Closed_Date',\n",
       " 'IPRA_Investigator_FirstName',\n",
       " 'IPRA_Investigator_LastName',\n",
       " 'Incident_Time_End',\n",
       " 'Incident_Time_Start',\n",
       " 'Involved_Officer_Age',\n",
       " 'Involved_Officer_Detail',\n",
       " 'Involved_Officer_FName',\n",
       " 'Involved_Officer_Lname',\n",
       " 'Involved_Officer_Position',\n",
       " 'Involved_Officer_Race',\n",
       " 'Involved_Officer_Sex',\n",
       " 'Involved_Officer_Unit',\n",
       " 'LOCATION_CODE',\n",
       " 'Notification_Date',\n",
       " 'Recommended_Number_Of_Days',\n",
       " 'Street']"
      ]
     },
     "execution_count": 17,
     "metadata": {},
     "output_type": "execute_result"
    }
   ],
   "source": [
    "sorted(april_df.columns)"
   ]
  },
  {
   "cell_type": "code",
   "execution_count": 19,
   "metadata": {
    "collapsed": false
   },
   "outputs": [],
   "source": [
    "april_df.to_csv('./Clean/April2016/april2016.csv')\n",
    "april_df.to_excel('./Clean/April2016/april2016.xlsx')"
   ]
  },
  {
   "cell_type": "code",
   "execution_count": 40,
   "metadata": {
    "collapsed": false
   },
   "outputs": [],
   "source": [
    "summary = pd.DataFrame({yr: {'Row Count': len(df), 'Unique CRID Count': len(df.Complaint_Number.dropna().unique())} \n",
    "              for df, yr in zip(df_list, range(2012, 2017))})\n",
    "summary = summary.transpose()"
   ]
  },
  {
   "cell_type": "code",
   "execution_count": 41,
   "metadata": {
    "collapsed": false
   },
   "outputs": [
    {
     "data": {
      "text/html": [
       "<div>\n",
       "<table border=\"1\" class=\"dataframe\">\n",
       "  <thead>\n",
       "    <tr style=\"text-align: right;\">\n",
       "      <th></th>\n",
       "      <th>Row Count</th>\n",
       "      <th>Unique CRID Count</th>\n",
       "    </tr>\n",
       "  </thead>\n",
       "  <tbody>\n",
       "    <tr>\n",
       "      <th>2012</th>\n",
       "      <td>48293</td>\n",
       "      <td>1877</td>\n",
       "    </tr>\n",
       "    <tr>\n",
       "      <th>2013</th>\n",
       "      <td>39561</td>\n",
       "      <td>1913</td>\n",
       "    </tr>\n",
       "    <tr>\n",
       "      <th>2014</th>\n",
       "      <td>32454</td>\n",
       "      <td>1663</td>\n",
       "    </tr>\n",
       "    <tr>\n",
       "      <th>2015</th>\n",
       "      <td>14727</td>\n",
       "      <td>1392</td>\n",
       "    </tr>\n",
       "    <tr>\n",
       "      <th>2016</th>\n",
       "      <td>1720</td>\n",
       "      <td>330</td>\n",
       "    </tr>\n",
       "  </tbody>\n",
       "</table>\n",
       "</div>"
      ],
      "text/plain": [
       "      Row Count  Unique CRID Count\n",
       "2012      48293               1877\n",
       "2013      39561               1913\n",
       "2014      32454               1663\n",
       "2015      14727               1392\n",
       "2016       1720                330"
      ]
     },
     "execution_count": 41,
     "metadata": {},
     "output_type": "execute_result"
    }
   ],
   "source": [
    "summary"
   ]
  },
  {
   "cell_type": "code",
   "execution_count": 46,
   "metadata": {
    "collapsed": false
   },
   "outputs": [],
   "source": [
    "categories = sorted(april_df.INITIAL_CATEGORY.dropna().unique().tolist())"
   ]
  },
  {
   "cell_type": "code",
   "execution_count": 69,
   "metadata": {
    "collapsed": false
   },
   "outputs": [],
   "source": [
    "initial = april_df.groupby('INITIAL_CATEGORY').apply(lambda x: len(x.Complaint_Number.dropna().unique())).reset_index()"
   ]
  },
  {
   "cell_type": "code",
   "execution_count": 70,
   "metadata": {
    "collapsed": false
   },
   "outputs": [],
   "source": [
    "current = april_df.groupby('CURRENT_CATEGORY').apply(lambda x: len(x.Complaint_Number.dropna().unique())).reset_index()"
   ]
  },
  {
   "cell_type": "code",
   "execution_count": 78,
   "metadata": {
    "collapsed": false
   },
   "outputs": [],
   "source": [
    "initial.columns = ['Category', 'INITIAL_CATEGORY_COUNT']\n",
    "current.columns = ['Category', 'CURRENT_CATEGORY_COUNT']"
   ]
  },
  {
   "cell_type": "code",
   "execution_count": 77,
   "metadata": {
    "collapsed": false
   },
   "outputs": [
    {
     "data": {
      "text/plain": [
       "['CONDUCT UNBECOMING',\n",
       " 'ELBOW STRIKE',\n",
       " 'FAILURE TO IDENTIFY',\n",
       " 'IMPROPER SERVICE OF WARRANT',\n",
       " 'MISUSE OF DEPARTMENT EQUIPMENT / SUPPLIES',\n",
       " 'PROPERTY - FAILED TO INVENTORY',\n",
       " 'TASER (LASER TARGETED)']"
      ]
     },
     "execution_count": 77,
     "metadata": {},
     "output_type": "execute_result"
    }
   ],
   "source": [
    "[cat for cat in current.CURRENT_CATEGORY if cat not in initial.INITIAL_CATEOGRY.tolist()]"
   ]
  },
  {
   "cell_type": "code",
   "execution_count": 80,
   "metadata": {
    "collapsed": false
   },
   "outputs": [],
   "source": [
    "category_summary = pd.merge(initial, current, on='Category', how='outer')"
   ]
  },
  {
   "cell_type": "code",
   "execution_count": 82,
   "metadata": {
    "collapsed": false
   },
   "outputs": [],
   "source": [
    "category_summary.fillna(0, inplace=True)"
   ]
  },
  {
   "cell_type": "code",
   "execution_count": 88,
   "metadata": {
    "collapsed": false
   },
   "outputs": [],
   "source": [
    "category_summary.INITIAL_CATEGORY_COUNT = category_summary.INITIAL_CATEGORY_COUNT.astype(int)\n",
    "category_summary.CURRENT_CATEGORY_COUNT = category_summary.CURRENT_CATEGORY_COUNT.astype(int)"
   ]
  },
  {
   "cell_type": "code",
   "execution_count": 90,
   "metadata": {
    "collapsed": false
   },
   "outputs": [],
   "source": [
    "category_summary.to_csv('/home/dan/Desktop/category_summary.csv')"
   ]
  },
  {
   "cell_type": "code",
   "execution_count": null,
   "metadata": {
    "collapsed": true
   },
   "outputs": [],
   "source": []
  }
 ],
 "metadata": {
  "kernelspec": {
   "display_name": "Python 3",
   "language": "python",
   "name": "python3"
  },
  "language_info": {
   "codemirror_mode": {
    "name": "ipython",
    "version": 3
   },
   "file_extension": ".py",
   "mimetype": "text/x-python",
   "name": "python",
   "nbconvert_exporter": "python",
   "pygments_lexer": "ipython3",
   "version": "3.5.1"
  }
 },
 "nbformat": 4,
 "nbformat_minor": 0
}
