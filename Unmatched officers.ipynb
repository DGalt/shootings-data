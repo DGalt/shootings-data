{
 "cells": [
  {
   "cell_type": "code",
   "execution_count": 31,
   "metadata": {
    "collapsed": true
   },
   "outputs": [],
   "source": [
    "import pandas as pd"
   ]
  },
  {
   "cell_type": "code",
   "execution_count": 189,
   "metadata": {
    "collapsed": true
   },
   "outputs": [],
   "source": [
    "unmatched = pd.read_csv('./not_match_officer.csv')\n",
    "all_sworn = pd.read_csv('./all_sworn_officer.csv')"
   ]
  },
  {
   "cell_type": "code",
   "execution_count": 231,
   "metadata": {
    "collapsed": false
   },
   "outputs": [],
   "source": [
    "unmatched.ACCUSED_APPOINTMENT_DATE = pd.to_datetime(unmatched.ACCUSED_APPOINTMENT_DATE)\n",
    "\n",
    "def fix_yr(x):\n",
    "    split = str(x).split('-')\n",
    "    if split[-1][0] == '0' or split[-1][0] == '1':\n",
    "        split[-1] = '20'+split[-1]\n",
    "    else:\n",
    "        split[-1] = '19'+split[-1]\n",
    "    return '-'.join(split)\n",
    "\n",
    "all_sworn.APPOINTED_DATE = pd.to_datetime(all_sworn.APPOINTED_DATE.apply(fix_yr), \n",
    "                                          errors='coerce')"
   ]
  },
  {
   "cell_type": "code",
   "execution_count": 261,
   "metadata": {
    "collapsed": false,
    "scrolled": true
   },
   "outputs": [],
   "source": [
    "match=[]\n",
    "no_match=[]\n",
    "for date in unmatched.ACCUSED_APPOINTMENT_DATE.unique():\n",
    "    if not all_sworn[all_sworn.APPOINTED_DATE == date].empty:\n",
    "        match.append(date)\n",
    "    else:\n",
    "        no_match.append(date)"
   ]
  },
  {
   "cell_type": "code",
   "execution_count": 337,
   "metadata": {
    "collapsed": false
   },
   "outputs": [
    {
     "name": "stdout",
     "output_type": "stream",
     "text": [
      "10\n",
      "19\n"
     ]
    }
   ],
   "source": [
    "print(len(match))\n",
    "print(len(no_match))"
   ]
  },
  {
   "cell_type": "code",
   "execution_count": 339,
   "metadata": {
    "collapsed": false
   },
   "outputs": [
    {
     "data": {
      "text/plain": [
       "[numpy.datetime64('1980-10-01T00:00:00.000000000'),\n",
       " numpy.datetime64('1986-06-16T00:00:00.000000000'),\n",
       " numpy.datetime64('1994-08-01T00:00:00.000000000'),\n",
       " numpy.datetime64('1994-12-01T00:00:00.000000000'),\n",
       " numpy.datetime64('1999-09-13T00:00:00.000000000'),\n",
       " numpy.datetime64('2005-12-05T00:00:00.000000000'),\n",
       " numpy.datetime64('2006-01-23T00:00:00.000000000'),\n",
       " numpy.datetime64('2007-07-30T00:00:00.000000000'),\n",
       " numpy.datetime64('2012-04-02T00:00:00.000000000'),\n",
       " numpy.datetime64('2012-10-05T00:00:00.000000000')]"
      ]
     },
     "execution_count": 339,
     "metadata": {},
     "output_type": "execute_result"
    }
   ],
   "source": [
    "match = sorted(match)\n",
    "match"
   ]
  },
  {
   "cell_type": "code",
   "execution_count": 341,
   "metadata": {
    "collapsed": false
   },
   "outputs": [
    {
     "data": {
      "text/plain": [
       "[numpy.datetime64('1985-06-03T00:00:00.000000000'),\n",
       " numpy.datetime64('1988-12-27T00:00:00.000000000'),\n",
       " numpy.datetime64('1990-10-22T00:00:00.000000000'),\n",
       " numpy.datetime64('1991-08-01T00:00:00.000000000'),\n",
       " numpy.datetime64('1991-12-19T00:00:00.000000000'),\n",
       " numpy.datetime64('1992-04-16T00:00:00.000000000'),\n",
       " numpy.datetime64('1992-05-01T00:00:00.000000000'),\n",
       " numpy.datetime64('1992-06-16T00:00:00.000000000'),\n",
       " numpy.datetime64('1993-07-01T00:00:00.000000000'),\n",
       " numpy.datetime64('1996-08-29T00:00:00.000000000'),\n",
       " numpy.datetime64('1997-01-02T00:00:00.000000000'),\n",
       " numpy.datetime64('1998-09-16T00:00:00.000000000'),\n",
       " numpy.datetime64('2001-12-11T00:00:00.000000000'),\n",
       " numpy.datetime64('2003-05-27T00:00:00.000000000'),\n",
       " numpy.datetime64('2004-08-31T00:00:00.000000000'),\n",
       " numpy.datetime64('2005-09-06T00:00:00.000000000'),\n",
       " numpy.datetime64('2011-12-16T00:00:00.000000000'),\n",
       " numpy.datetime64('2014-04-16T00:00:00.000000000'),\n",
       " numpy.datetime64('2015-10-19T00:00:00.000000000')]"
      ]
     },
     "execution_count": 341,
     "metadata": {},
     "output_type": "execute_result"
    }
   ],
   "source": [
    "no_match = sorted(no_match)\n",
    "no_match"
   ]
  },
  {
   "cell_type": "code",
   "execution_count": 272,
   "metadata": {
    "collapsed": false
   },
   "outputs": [
    {
     "data": {
      "text/html": [
       "<div>\n",
       "<table border=\"1\" class=\"dataframe\">\n",
       "  <thead>\n",
       "    <tr style=\"text-align: right;\">\n",
       "      <th></th>\n",
       "      <th>ACCSUEDOFFICER_FNAME</th>\n",
       "      <th>ACCUSEDOFFICER_LNAME</th>\n",
       "      <th>ACCUSED_STAR</th>\n",
       "      <th>ACCUSED_UNIT</th>\n",
       "      <th>ACCUSED_APPOINTMENT_DATE</th>\n",
       "    </tr>\n",
       "  </thead>\n",
       "  <tbody>\n",
       "    <tr>\n",
       "      <th>0</th>\n",
       "      <td>TRACEY</td>\n",
       "      <td>EDWARDS</td>\n",
       "      <td>4947.0</td>\n",
       "      <td>6.0</td>\n",
       "      <td>2007-07-30</td>\n",
       "    </tr>\n",
       "    <tr>\n",
       "      <th>2</th>\n",
       "      <td>RONALD</td>\n",
       "      <td>FORGUE</td>\n",
       "      <td>1600.0</td>\n",
       "      <td>5.0</td>\n",
       "      <td>1986-06-16</td>\n",
       "    </tr>\n",
       "    <tr>\n",
       "      <th>4</th>\n",
       "      <td>RONALD</td>\n",
       "      <td>FORGUE</td>\n",
       "      <td>380.0</td>\n",
       "      <td>3.0</td>\n",
       "      <td>1986-06-16</td>\n",
       "    </tr>\n",
       "    <tr>\n",
       "      <th>3</th>\n",
       "      <td>KEVIN</td>\n",
       "      <td>CONNORS</td>\n",
       "      <td>1182.0</td>\n",
       "      <td>8.0</td>\n",
       "      <td>1999-09-13</td>\n",
       "    </tr>\n",
       "    <tr>\n",
       "      <th>9</th>\n",
       "      <td>JAMEL</td>\n",
       "      <td>JUDEH</td>\n",
       "      <td>NaN</td>\n",
       "      <td>44.0</td>\n",
       "      <td>2012-10-05</td>\n",
       "    </tr>\n",
       "    <tr>\n",
       "      <th>11</th>\n",
       "      <td>NaN</td>\n",
       "      <td>TAIYOOB</td>\n",
       "      <td>NaN</td>\n",
       "      <td>25.0</td>\n",
       "      <td>2005-12-05</td>\n",
       "    </tr>\n",
       "    <tr>\n",
       "      <th>20</th>\n",
       "      <td>NaN</td>\n",
       "      <td>WILLABY</td>\n",
       "      <td>NaN</td>\n",
       "      <td>25.0</td>\n",
       "      <td>2005-12-05</td>\n",
       "    </tr>\n",
       "    <tr>\n",
       "      <th>25</th>\n",
       "      <td>NaN</td>\n",
       "      <td>JORDAN</td>\n",
       "      <td>NaN</td>\n",
       "      <td>171.0</td>\n",
       "      <td>2005-12-05</td>\n",
       "    </tr>\n",
       "    <tr>\n",
       "      <th>12</th>\n",
       "      <td>NaN</td>\n",
       "      <td>FRIERSON</td>\n",
       "      <td>NaN</td>\n",
       "      <td>44.0</td>\n",
       "      <td>2012-04-02</td>\n",
       "    </tr>\n",
       "    <tr>\n",
       "      <th>19</th>\n",
       "      <td>NaN</td>\n",
       "      <td>VALDES</td>\n",
       "      <td>NaN</td>\n",
       "      <td>10.0</td>\n",
       "      <td>2012-04-02</td>\n",
       "    </tr>\n",
       "    <tr>\n",
       "      <th>37</th>\n",
       "      <td>NaN</td>\n",
       "      <td>WELLERE</td>\n",
       "      <td>NaN</td>\n",
       "      <td>9.0</td>\n",
       "      <td>2012-04-02</td>\n",
       "    </tr>\n",
       "    <tr>\n",
       "      <th>15</th>\n",
       "      <td>NaN</td>\n",
       "      <td>SPURLIN</td>\n",
       "      <td>NaN</td>\n",
       "      <td>11.0</td>\n",
       "      <td>1994-08-01</td>\n",
       "    </tr>\n",
       "    <tr>\n",
       "      <th>21</th>\n",
       "      <td>NaN</td>\n",
       "      <td>STAUNTON</td>\n",
       "      <td>NaN</td>\n",
       "      <td>25.0</td>\n",
       "      <td>1980-10-01</td>\n",
       "    </tr>\n",
       "    <tr>\n",
       "      <th>32</th>\n",
       "      <td>NaN</td>\n",
       "      <td>ESCOBEDO</td>\n",
       "      <td>11877.0</td>\n",
       "      <td>NaN</td>\n",
       "      <td>2006-01-23</td>\n",
       "    </tr>\n",
       "    <tr>\n",
       "      <th>33</th>\n",
       "      <td>NaN</td>\n",
       "      <td>WILLIAMSON</td>\n",
       "      <td>NaN</td>\n",
       "      <td>10.0</td>\n",
       "      <td>1994-12-01</td>\n",
       "    </tr>\n",
       "  </tbody>\n",
       "</table>\n",
       "</div>"
      ],
      "text/plain": [
       "   ACCSUEDOFFICER_FNAME ACCUSEDOFFICER_LNAME  ACCUSED_STAR  ACCUSED_UNIT  \\\n",
       "0                TRACEY              EDWARDS        4947.0           6.0   \n",
       "2                RONALD               FORGUE        1600.0           5.0   \n",
       "4                RONALD               FORGUE         380.0           3.0   \n",
       "3                 KEVIN              CONNORS        1182.0           8.0   \n",
       "9                 JAMEL                JUDEH           NaN          44.0   \n",
       "11                  NaN              TAIYOOB           NaN          25.0   \n",
       "20                  NaN              WILLABY           NaN          25.0   \n",
       "25                  NaN               JORDAN           NaN         171.0   \n",
       "12                  NaN             FRIERSON           NaN          44.0   \n",
       "19                  NaN               VALDES           NaN          10.0   \n",
       "37                  NaN              WELLERE           NaN           9.0   \n",
       "15                  NaN              SPURLIN           NaN          11.0   \n",
       "21                  NaN             STAUNTON           NaN          25.0   \n",
       "32                  NaN             ESCOBEDO       11877.0           NaN   \n",
       "33                  NaN           WILLIAMSON           NaN          10.0   \n",
       "\n",
       "   ACCUSED_APPOINTMENT_DATE  \n",
       "0                2007-07-30  \n",
       "2                1986-06-16  \n",
       "4                1986-06-16  \n",
       "3                1999-09-13  \n",
       "9                2012-10-05  \n",
       "11               2005-12-05  \n",
       "20               2005-12-05  \n",
       "25               2005-12-05  \n",
       "12               2012-04-02  \n",
       "19               2012-04-02  \n",
       "37               2012-04-02  \n",
       "15               1994-08-01  \n",
       "21               1980-10-01  \n",
       "32               2006-01-23  \n",
       "33               1994-12-01  "
      ]
     },
     "execution_count": 272,
     "metadata": {},
     "output_type": "execute_result"
    }
   ],
   "source": [
    "matched_df = pd.concat([unmatched[unmatched.ACCUSED_APPOINTMENT_DATE==date]\n",
    "                       for date in match])\n",
    "matched_df"
   ]
  },
  {
   "cell_type": "code",
   "execution_count": 284,
   "metadata": {
    "collapsed": false
   },
   "outputs": [],
   "source": [
    "name_match = {}\n",
    "no_name_match = {}\n",
    "for lname, date in zip(matched_df.ACCUSEDOFFICER_LNAME, matched_df.ACCUSED_APPOINTMENT_DATE):\n",
    "    if not all_sworn[(all_sworn.APPOINTED_DATE == date) &\n",
    "                     (all_sworn.LAST_NME==lname)].empty:\n",
    "        name_match[lname] = all_sworn[(all_sworn.APPOINTED_DATE == date) &\n",
    "                                      (all_sworn.LAST_NME==lname)]\n",
    "    else:\n",
    "        no_name_match[lname] = all_sworn[all_sworn.APPOINTED_DATE == date]"
   ]
  },
  {
   "cell_type": "code",
   "execution_count": 285,
   "metadata": {
    "collapsed": false
   },
   "outputs": [
    {
     "data": {
      "text/plain": [
       "dict_keys(['ESCOBEDO', 'CONNORS', 'EDWARDS', 'FORGUE'])"
      ]
     },
     "execution_count": 285,
     "metadata": {},
     "output_type": "execute_result"
    }
   ],
   "source": [
    "name_match.keys()"
   ]
  },
  {
   "cell_type": "code",
   "execution_count": 291,
   "metadata": {
    "collapsed": false
   },
   "outputs": [
    {
     "data": {
      "text/html": [
       "<div>\n",
       "<table border=\"1\" class=\"dataframe\">\n",
       "  <thead>\n",
       "    <tr style=\"text-align: right;\">\n",
       "      <th></th>\n",
       "      <th>FIRST_NME</th>\n",
       "      <th>CPD_UNIT_ASSIGNED_NO</th>\n",
       "    </tr>\n",
       "  </thead>\n",
       "  <tbody>\n",
       "    <tr>\n",
       "      <th>8019</th>\n",
       "      <td>LUIS</td>\n",
       "      <td>6.0</td>\n",
       "    </tr>\n",
       "  </tbody>\n",
       "</table>\n",
       "</div>"
      ],
      "text/plain": [
       "     FIRST_NME  CPD_UNIT_ASSIGNED_NO\n",
       "8019      LUIS                   6.0"
      ]
     },
     "execution_count": 291,
     "metadata": {},
     "output_type": "execute_result"
    }
   ],
   "source": [
    "name_match['ESCOBEDO'][['FIRST_NME', 'CPD_UNIT_ASSIGNED_NO']]"
   ]
  },
  {
   "cell_type": "code",
   "execution_count": 286,
   "metadata": {
    "collapsed": false
   },
   "outputs": [
    {
     "data": {
      "text/plain": [
       "dict_keys(['VALDES', 'JUDEH', 'SPURLIN', 'WELLERE', 'STAUNTON', 'WILLIAMSON', 'FRIERSON', 'JORDAN', 'TAIYOOB', 'WILLABY'])"
      ]
     },
     "execution_count": 286,
     "metadata": {},
     "output_type": "execute_result"
    }
   ],
   "source": [
    "no_name_match.keys()"
   ]
  },
  {
   "cell_type": "markdown",
   "metadata": {},
   "source": [
    "** LAST_NAME = VALDES **"
   ]
  },
  {
   "cell_type": "code",
   "execution_count": 279,
   "metadata": {
    "collapsed": false
   },
   "outputs": [
    {
     "data": {
      "text/html": [
       "<div>\n",
       "<table border=\"1\" class=\"dataframe\">\n",
       "  <thead>\n",
       "    <tr style=\"text-align: right;\">\n",
       "      <th></th>\n",
       "      <th>LAST_NME</th>\n",
       "      <th>FIRST_NME</th>\n",
       "      <th>MIDDLE_INITIAL</th>\n",
       "      <th>SEX_CODE_CD</th>\n",
       "      <th>RACE</th>\n",
       "      <th>DOBYEAR</th>\n",
       "      <th>CURRAGE</th>\n",
       "      <th>STATUS_I</th>\n",
       "      <th>APPOINTED_DATE</th>\n",
       "      <th>EMPLOYEE_POSITION_CD</th>\n",
       "      <th>...</th>\n",
       "      <th>STAR1</th>\n",
       "      <th>STAR2</th>\n",
       "      <th>STAR3</th>\n",
       "      <th>STAR4</th>\n",
       "      <th>STAR5</th>\n",
       "      <th>STAR6</th>\n",
       "      <th>STAR7</th>\n",
       "      <th>STAR8</th>\n",
       "      <th>STAR9</th>\n",
       "      <th>STAR10</th>\n",
       "    </tr>\n",
       "  </thead>\n",
       "  <tbody>\n",
       "    <tr>\n",
       "      <th>18117</th>\n",
       "      <td>MC FADDEN JR</td>\n",
       "      <td>GARDNER</td>\n",
       "      <td>E</td>\n",
       "      <td>M</td>\n",
       "      <td>BLACK</td>\n",
       "      <td>1972.0</td>\n",
       "      <td>43.0</td>\n",
       "      <td>Y</td>\n",
       "      <td>1994-12-01</td>\n",
       "      <td>9161</td>\n",
       "      <td>...</td>\n",
       "      <td>4446.0</td>\n",
       "      <td>NaN</td>\n",
       "      <td>NaN</td>\n",
       "      <td>NaN</td>\n",
       "      <td>NaN</td>\n",
       "      <td>NaN</td>\n",
       "      <td>NaN</td>\n",
       "      <td>NaN</td>\n",
       "      <td>NaN</td>\n",
       "      <td>NaN</td>\n",
       "    </tr>\n",
       "  </tbody>\n",
       "</table>\n",
       "<p>1 rows × 24 columns</p>\n",
       "</div>"
      ],
      "text/plain": [
       "           LAST_NME FIRST_NME MIDDLE_INITIAL SEX_CODE_CD   RACE  DOBYEAR  \\\n",
       "18117  MC FADDEN JR   GARDNER              E           M  BLACK   1972.0   \n",
       "\n",
       "       CURRAGE STATUS_I APPOINTED_DATE EMPLOYEE_POSITION_CD   ...     STAR1  \\\n",
       "18117     43.0        Y     1994-12-01                 9161   ...    4446.0   \n",
       "\n",
       "       STAR2 STAR3 STAR4  STAR5  STAR6  STAR7  STAR8  STAR9  STAR10  \n",
       "18117    NaN   NaN   NaN    NaN    NaN    NaN    NaN    NaN     NaN  \n",
       "\n",
       "[1 rows x 24 columns]"
      ]
     },
     "execution_count": 279,
     "metadata": {},
     "output_type": "execute_result"
    }
   ],
   "source": [
    "no_name_match['VALDES'].sort_values(by='LAST_NME')"
   ]
  },
  {
   "cell_type": "markdown",
   "metadata": {},
   "source": [
    "** LAST_NAME = JUDEH **"
   ]
  },
  {
   "cell_type": "code",
   "execution_count": 318,
   "metadata": {
    "collapsed": false
   },
   "outputs": [
    {
     "data": {
      "text/html": [
       "<div>\n",
       "<table border=\"1\" class=\"dataframe\">\n",
       "  <thead>\n",
       "    <tr style=\"text-align: right;\">\n",
       "      <th></th>\n",
       "      <th>LAST_NME</th>\n",
       "      <th>FIRST_NME</th>\n",
       "      <th>MIDDLE_INITIAL</th>\n",
       "      <th>SEX_CODE_CD</th>\n",
       "      <th>RACE</th>\n",
       "      <th>DOBYEAR</th>\n",
       "      <th>CURRAGE</th>\n",
       "      <th>STATUS_I</th>\n",
       "      <th>APPOINTED_DATE</th>\n",
       "      <th>EMPLOYEE_POSITION_CD</th>\n",
       "      <th>...</th>\n",
       "      <th>STAR1</th>\n",
       "      <th>STAR2</th>\n",
       "      <th>STAR3</th>\n",
       "      <th>STAR4</th>\n",
       "      <th>STAR5</th>\n",
       "      <th>STAR6</th>\n",
       "      <th>STAR7</th>\n",
       "      <th>STAR8</th>\n",
       "      <th>STAR9</th>\n",
       "      <th>STAR10</th>\n",
       "    </tr>\n",
       "  </thead>\n",
       "  <tbody>\n",
       "    <tr>\n",
       "      <th>663</th>\n",
       "      <td>ANDRANGO JR</td>\n",
       "      <td>HERMAN</td>\n",
       "      <td>NaN</td>\n",
       "      <td>M</td>\n",
       "      <td>WHITE HISPANIC</td>\n",
       "      <td>1982.0</td>\n",
       "      <td>33.0</td>\n",
       "      <td>N</td>\n",
       "      <td>2012-10-05</td>\n",
       "      <td>9161</td>\n",
       "      <td>...</td>\n",
       "      <td>NaN</td>\n",
       "      <td>NaN</td>\n",
       "      <td>NaN</td>\n",
       "      <td>NaN</td>\n",
       "      <td>NaN</td>\n",
       "      <td>NaN</td>\n",
       "      <td>NaN</td>\n",
       "      <td>NaN</td>\n",
       "      <td>NaN</td>\n",
       "      <td>NaN</td>\n",
       "    </tr>\n",
       "    <tr>\n",
       "      <th>21177</th>\n",
       "      <td>OGOREK</td>\n",
       "      <td>JOSHUA</td>\n",
       "      <td>E</td>\n",
       "      <td>M</td>\n",
       "      <td>WHITE</td>\n",
       "      <td>1985.0</td>\n",
       "      <td>30.0</td>\n",
       "      <td>N</td>\n",
       "      <td>2012-10-05</td>\n",
       "      <td>9161</td>\n",
       "      <td>...</td>\n",
       "      <td>13800.0</td>\n",
       "      <td>NaN</td>\n",
       "      <td>NaN</td>\n",
       "      <td>NaN</td>\n",
       "      <td>NaN</td>\n",
       "      <td>NaN</td>\n",
       "      <td>NaN</td>\n",
       "      <td>NaN</td>\n",
       "      <td>NaN</td>\n",
       "      <td>NaN</td>\n",
       "    </tr>\n",
       "    <tr>\n",
       "      <th>25013</th>\n",
       "      <td>RYCZEK</td>\n",
       "      <td>JONATHAN</td>\n",
       "      <td>J</td>\n",
       "      <td>M</td>\n",
       "      <td>WHITE</td>\n",
       "      <td>1987.0</td>\n",
       "      <td>28.0</td>\n",
       "      <td>N</td>\n",
       "      <td>2012-10-05</td>\n",
       "      <td>9161</td>\n",
       "      <td>...</td>\n",
       "      <td>NaN</td>\n",
       "      <td>NaN</td>\n",
       "      <td>NaN</td>\n",
       "      <td>NaN</td>\n",
       "      <td>NaN</td>\n",
       "      <td>NaN</td>\n",
       "      <td>NaN</td>\n",
       "      <td>NaN</td>\n",
       "      <td>NaN</td>\n",
       "      <td>NaN</td>\n",
       "    </tr>\n",
       "  </tbody>\n",
       "</table>\n",
       "<p>3 rows × 24 columns</p>\n",
       "</div>"
      ],
      "text/plain": [
       "          LAST_NME FIRST_NME MIDDLE_INITIAL SEX_CODE_CD            RACE  \\\n",
       "663    ANDRANGO JR    HERMAN            NaN           M  WHITE HISPANIC   \n",
       "21177       OGOREK    JOSHUA              E           M           WHITE   \n",
       "25013       RYCZEK  JONATHAN              J           M           WHITE   \n",
       "\n",
       "       DOBYEAR  CURRAGE STATUS_I APPOINTED_DATE EMPLOYEE_POSITION_CD   ...    \\\n",
       "663     1982.0     33.0        N     2012-10-05                 9161   ...     \n",
       "21177   1985.0     30.0        N     2012-10-05                 9161   ...     \n",
       "25013   1987.0     28.0        N     2012-10-05                 9161   ...     \n",
       "\n",
       "         STAR1  STAR2 STAR3 STAR4  STAR5  STAR6  STAR7  STAR8  STAR9  STAR10  \n",
       "663        NaN    NaN   NaN   NaN    NaN    NaN    NaN    NaN    NaN     NaN  \n",
       "21177  13800.0    NaN   NaN   NaN    NaN    NaN    NaN    NaN    NaN     NaN  \n",
       "25013      NaN    NaN   NaN   NaN    NaN    NaN    NaN    NaN    NaN     NaN  \n",
       "\n",
       "[3 rows x 24 columns]"
      ]
     },
     "execution_count": 318,
     "metadata": {},
     "output_type": "execute_result"
    }
   ],
   "source": [
    "name = 'JUDEH'\n",
    "temp = no_name_match[name]\n",
    "temp[temp.CPD_UNIT_ASSIGNED_NO == \n",
    "     matched_df[matched_df.ACCUSEDOFFICER_LNAME==name].ACCUSED_UNIT.values[0]]"
   ]
  },
  {
   "cell_type": "code",
   "execution_count": 302,
   "metadata": {
    "collapsed": false
   },
   "outputs": [
    {
     "data": {
      "text/plain": [
       "array(['ALAGNO', 'ALMODOVAR', 'ANDERSON', 'ANDRANGO JR', 'ARCHER', 'AYALA',\n",
       "       'BITTNER', 'BRUNO', 'CALDERON', 'CESPEDES', 'CHAVEZ', 'DELGADO',\n",
       "       'DEMIROVIC', 'DIAZ', 'FELICIANO', 'FERLITO', 'FLORES', 'FUENTES',\n",
       "       'GAINER', 'GANNON', 'GARCIA', 'GIANNIOTIS', 'GORZELANNY JR',\n",
       "       'HERNANDEZ', 'HOTZA', 'HOWE III', 'KENAR', 'KILPONEN', 'KONICA',\n",
       "       'KOPTERSKI', 'MCCANN', 'MCNICHOLAS', 'MEDINA', 'MIESZCAK', 'MILLER',\n",
       "       'MIRANDA', 'MOLENSTRA', 'MORALES JR', 'OGOREK', 'PARISI', 'PAVONE',\n",
       "       'PERAINO', 'PEREZ', 'POTTER', 'RAMEY', 'RANKIN', 'RENAULT',\n",
       "       'RIALMO', 'RILEY', 'RODARTE', 'ROONEY', 'ROSE', 'ROSZKOWSKI',\n",
       "       'RUSANOV', 'RYAN', 'RYCZEK', 'VERGIS', 'VINCENT'], dtype=object)"
      ]
     },
     "execution_count": 302,
     "metadata": {},
     "output_type": "execute_result"
    }
   ],
   "source": [
    "temp.LAST_NME.unique()"
   ]
  },
  {
   "cell_type": "markdown",
   "metadata": {},
   "source": [
    "** LAST_NAME = SPURLIN **"
   ]
  },
  {
   "cell_type": "code",
   "execution_count": 317,
   "metadata": {
    "collapsed": false
   },
   "outputs": [
    {
     "data": {
      "text/html": [
       "<div>\n",
       "<table border=\"1\" class=\"dataframe\">\n",
       "  <thead>\n",
       "    <tr style=\"text-align: right;\">\n",
       "      <th></th>\n",
       "      <th>LAST_NME</th>\n",
       "      <th>FIRST_NME</th>\n",
       "      <th>MIDDLE_INITIAL</th>\n",
       "      <th>SEX_CODE_CD</th>\n",
       "      <th>RACE</th>\n",
       "      <th>DOBYEAR</th>\n",
       "      <th>CURRAGE</th>\n",
       "      <th>STATUS_I</th>\n",
       "      <th>APPOINTED_DATE</th>\n",
       "      <th>EMPLOYEE_POSITION_CD</th>\n",
       "      <th>...</th>\n",
       "      <th>STAR1</th>\n",
       "      <th>STAR2</th>\n",
       "      <th>STAR3</th>\n",
       "      <th>STAR4</th>\n",
       "      <th>STAR5</th>\n",
       "      <th>STAR6</th>\n",
       "      <th>STAR7</th>\n",
       "      <th>STAR8</th>\n",
       "      <th>STAR9</th>\n",
       "      <th>STAR10</th>\n",
       "    </tr>\n",
       "  </thead>\n",
       "  <tbody>\n",
       "    <tr>\n",
       "      <th>3691</th>\n",
       "      <td>CAMERON</td>\n",
       "      <td>GREGORY</td>\n",
       "      <td>V</td>\n",
       "      <td>M</td>\n",
       "      <td>BLACK</td>\n",
       "      <td>1965.0</td>\n",
       "      <td>50.0</td>\n",
       "      <td>N</td>\n",
       "      <td>1994-08-01</td>\n",
       "      <td>9161</td>\n",
       "      <td>...</td>\n",
       "      <td>9801.0</td>\n",
       "      <td>NaN</td>\n",
       "      <td>NaN</td>\n",
       "      <td>NaN</td>\n",
       "      <td>NaN</td>\n",
       "      <td>NaN</td>\n",
       "      <td>NaN</td>\n",
       "      <td>NaN</td>\n",
       "      <td>NaN</td>\n",
       "      <td>NaN</td>\n",
       "    </tr>\n",
       "    <tr>\n",
       "      <th>16879</th>\n",
       "      <td>MADDEN</td>\n",
       "      <td>MOLLY</td>\n",
       "      <td>E</td>\n",
       "      <td>F</td>\n",
       "      <td>WHITE</td>\n",
       "      <td>1967.0</td>\n",
       "      <td>48.0</td>\n",
       "      <td>Y</td>\n",
       "      <td>1994-08-01</td>\n",
       "      <td>9161</td>\n",
       "      <td>...</td>\n",
       "      <td>11525.0</td>\n",
       "      <td>NaN</td>\n",
       "      <td>NaN</td>\n",
       "      <td>NaN</td>\n",
       "      <td>NaN</td>\n",
       "      <td>NaN</td>\n",
       "      <td>NaN</td>\n",
       "      <td>NaN</td>\n",
       "      <td>NaN</td>\n",
       "      <td>NaN</td>\n",
       "    </tr>\n",
       "  </tbody>\n",
       "</table>\n",
       "<p>2 rows × 24 columns</p>\n",
       "</div>"
      ],
      "text/plain": [
       "      LAST_NME FIRST_NME MIDDLE_INITIAL SEX_CODE_CD   RACE  DOBYEAR  CURRAGE  \\\n",
       "3691   CAMERON   GREGORY              V           M  BLACK   1965.0     50.0   \n",
       "16879   MADDEN     MOLLY              E           F  WHITE   1967.0     48.0   \n",
       "\n",
       "      STATUS_I APPOINTED_DATE EMPLOYEE_POSITION_CD   ...      STAR1  STAR2  \\\n",
       "3691         N     1994-08-01                 9161   ...     9801.0    NaN   \n",
       "16879        Y     1994-08-01                 9161   ...    11525.0    NaN   \n",
       "\n",
       "      STAR3 STAR4  STAR5  STAR6  STAR7  STAR8  STAR9  STAR10  \n",
       "3691    NaN   NaN    NaN    NaN    NaN    NaN    NaN     NaN  \n",
       "16879   NaN   NaN    NaN    NaN    NaN    NaN    NaN     NaN  \n",
       "\n",
       "[2 rows x 24 columns]"
      ]
     },
     "execution_count": 317,
     "metadata": {},
     "output_type": "execute_result"
    }
   ],
   "source": [
    "name = 'SPURLIN'\n",
    "temp = no_name_match[name]\n",
    "temp[temp.CPD_UNIT_ASSIGNED_NO == \n",
    "     matched_df[matched_df.ACCUSEDOFFICER_LNAME==name].ACCUSED_UNIT.values[0]]"
   ]
  },
  {
   "cell_type": "code",
   "execution_count": 307,
   "metadata": {
    "collapsed": false
   },
   "outputs": [
    {
     "data": {
      "text/plain": [
       "array(['ANDERSEN', 'ANDERSON', 'ANTHONY', 'BACHLER', 'BARNES', 'BATISTE',\n",
       "       'BELASCHKY', 'BLACHER', 'BLACK', 'BLEVINS', 'BOGGAN', 'BRIDGES',\n",
       "       'BROWN', 'BRYJA', 'BRYSON', 'BURKE', 'CAMERON', 'CASALE JR',\n",
       "       'CASEY', 'CATALDO', 'CEGIELSKI', 'CHAMPION', 'CHEVAS II', 'CLANCY',\n",
       "       'CLARK', 'CLYNE', 'COLEMAN', 'COTTON', 'CZARNIK', 'DACANAY', 'DALY',\n",
       "       'DANIELS', 'DAVIS', 'DEARTH', 'DELGADO', 'DEVINE', 'DORE', 'DUDLEY',\n",
       "       'DUNN', 'EPINGER', 'FEENEY', 'FIORINO', 'FOGARTY', 'FRASURE',\n",
       "       'FRONCZAK', 'GALVAN JR', 'GAMBOA', 'GARCIA', 'GARIBAY', 'GIBSON',\n",
       "       'GIGLIO', 'GORDON', 'GRANIAS', 'GREEN', 'HALEEM', 'HARRIS',\n",
       "       'HEGARTY', 'HERSEY', 'HICKS', 'HILL', 'HOLOWACH JR', 'HOOD',\n",
       "       'HOOGLAND', 'HOULIHAN', 'HOZZIAN', 'HUNT', 'INGRAM JR', 'JABLONSKI',\n",
       "       'JAEGER', 'JAGIELSKI', 'JOHNSON', 'KEEVERS', 'KIRBY', 'KNIGHT',\n",
       "       'KREUZ', 'KRIARAKIS', 'LATHAM', 'LEE', 'LITTLE', 'LOPEZ', 'MADDEN',\n",
       "       'MAINCZYK', 'MALECKI', 'MARSHALL', 'MATICH', 'MC ALLISTER',\n",
       "       'MC FARLANE', 'MC GOVERN', 'MC GUIRE', 'MERCADO', 'MIJES', 'MINGO',\n",
       "       'MOLINA', 'MOORE', 'MURPHY', 'MURPHY WEBB', 'NEGRETE JR', 'O KELLY',\n",
       "       'OLIVIERI', 'PANYATHIP', 'PATNETT', 'PURDIMAN', 'PURTELL JR',\n",
       "       'RAU JR', 'RIVERA', 'ROBERTS', 'RUDOLPH', 'SALERNO', 'SALINAS',\n",
       "       'SALVAGE', 'SARTIN', 'SHAVERS JR', 'SHIELDS', 'SHIRAHAMA',\n",
       "       'SIMONETTI', 'SIMZ', 'SKALA', 'SMITH', 'STANFORD', 'STANKOWSKI',\n",
       "       'STANTON', 'SUTHERLAND', 'TALIAFERRO', 'TAYLOR', 'TEBBENS',\n",
       "       'THOMAS JR', 'TROST', 'TUMAS', 'TURKS JR', 'VASQUEZ', 'VEGA', 'VIA',\n",
       "       'VILLA', 'VILLAREAL', 'WALKER', 'WASHINGTON', 'WATSON', 'WEST',\n",
       "       'WILLIAMS III', 'YOUNG', 'YZAGUIRRE', 'ZACEK', 'ZAYAS JR'], dtype=object)"
      ]
     },
     "execution_count": 307,
     "metadata": {},
     "output_type": "execute_result"
    }
   ],
   "source": [
    "temp.LAST_NME.unique()"
   ]
  },
  {
   "cell_type": "markdown",
   "metadata": {},
   "source": [
    "** LAST_NAME = WELLERE **"
   ]
  },
  {
   "cell_type": "code",
   "execution_count": 319,
   "metadata": {
    "collapsed": false
   },
   "outputs": [
    {
     "data": {
      "text/html": [
       "<div>\n",
       "<table border=\"1\" class=\"dataframe\">\n",
       "  <thead>\n",
       "    <tr style=\"text-align: right;\">\n",
       "      <th></th>\n",
       "      <th>LAST_NME</th>\n",
       "      <th>FIRST_NME</th>\n",
       "      <th>MIDDLE_INITIAL</th>\n",
       "      <th>SEX_CODE_CD</th>\n",
       "      <th>RACE</th>\n",
       "      <th>DOBYEAR</th>\n",
       "      <th>CURRAGE</th>\n",
       "      <th>STATUS_I</th>\n",
       "      <th>APPOINTED_DATE</th>\n",
       "      <th>EMPLOYEE_POSITION_CD</th>\n",
       "      <th>...</th>\n",
       "      <th>STAR1</th>\n",
       "      <th>STAR2</th>\n",
       "      <th>STAR3</th>\n",
       "      <th>STAR4</th>\n",
       "      <th>STAR5</th>\n",
       "      <th>STAR6</th>\n",
       "      <th>STAR7</th>\n",
       "      <th>STAR8</th>\n",
       "      <th>STAR9</th>\n",
       "      <th>STAR10</th>\n",
       "    </tr>\n",
       "  </thead>\n",
       "  <tbody>\n",
       "  </tbody>\n",
       "</table>\n",
       "<p>0 rows × 24 columns</p>\n",
       "</div>"
      ],
      "text/plain": [
       "Empty DataFrame\n",
       "Columns: [LAST_NME, FIRST_NME, MIDDLE_INITIAL, SEX_CODE_CD, RACE, DOBYEAR, CURRAGE, STATUS_I, APPOINTED_DATE, EMPLOYEE_POSITION_CD, DESCR, CPD_UNIT_ASSIGNED_NO, UNITDESCR, RESIGNATION_DATE, STAR1, STAR2, STAR3, STAR4, STAR5, STAR6, STAR7, STAR8, STAR9, STAR10]\n",
       "Index: []\n",
       "\n",
       "[0 rows x 24 columns]"
      ]
     },
     "execution_count": 319,
     "metadata": {},
     "output_type": "execute_result"
    }
   ],
   "source": [
    "name = 'WELLERE'\n",
    "temp = no_name_match[name]\n",
    "temp[temp.CPD_UNIT_ASSIGNED_NO == \n",
    "     matched_df[matched_df.ACCUSEDOFFICER_LNAME==name].ACCUSED_UNIT.values[0]]"
   ]
  },
  {
   "cell_type": "code",
   "execution_count": 320,
   "metadata": {
    "collapsed": false
   },
   "outputs": [
    {
     "data": {
      "text/plain": [
       "array(['KIRBY'], dtype=object)"
      ]
     },
     "execution_count": 320,
     "metadata": {},
     "output_type": "execute_result"
    }
   ],
   "source": [
    "temp.LAST_NME.unique()"
   ]
  },
  {
   "cell_type": "code",
   "execution_count": 321,
   "metadata": {
    "collapsed": false
   },
   "outputs": [
    {
     "data": {
      "text/html": [
       "<div>\n",
       "<table border=\"1\" class=\"dataframe\">\n",
       "  <thead>\n",
       "    <tr style=\"text-align: right;\">\n",
       "      <th></th>\n",
       "      <th>LAST_NME</th>\n",
       "      <th>FIRST_NME</th>\n",
       "      <th>MIDDLE_INITIAL</th>\n",
       "      <th>SEX_CODE_CD</th>\n",
       "      <th>RACE</th>\n",
       "      <th>DOBYEAR</th>\n",
       "      <th>CURRAGE</th>\n",
       "      <th>STATUS_I</th>\n",
       "      <th>APPOINTED_DATE</th>\n",
       "      <th>EMPLOYEE_POSITION_CD</th>\n",
       "      <th>...</th>\n",
       "      <th>STAR1</th>\n",
       "      <th>STAR2</th>\n",
       "      <th>STAR3</th>\n",
       "      <th>STAR4</th>\n",
       "      <th>STAR5</th>\n",
       "      <th>STAR6</th>\n",
       "      <th>STAR7</th>\n",
       "      <th>STAR8</th>\n",
       "      <th>STAR9</th>\n",
       "      <th>STAR10</th>\n",
       "    </tr>\n",
       "  </thead>\n",
       "  <tbody>\n",
       "    <tr>\n",
       "      <th>14690</th>\n",
       "      <td>KIRBY</td>\n",
       "      <td>BRANDON</td>\n",
       "      <td>H</td>\n",
       "      <td>M</td>\n",
       "      <td>WHITE</td>\n",
       "      <td>1987.0</td>\n",
       "      <td>28.0</td>\n",
       "      <td>Y</td>\n",
       "      <td>2012-04-02</td>\n",
       "      <td>9161</td>\n",
       "      <td>...</td>\n",
       "      <td>18291.0</td>\n",
       "      <td>13335.0</td>\n",
       "      <td>NaN</td>\n",
       "      <td>NaN</td>\n",
       "      <td>NaN</td>\n",
       "      <td>NaN</td>\n",
       "      <td>NaN</td>\n",
       "      <td>NaN</td>\n",
       "      <td>NaN</td>\n",
       "      <td>NaN</td>\n",
       "    </tr>\n",
       "  </tbody>\n",
       "</table>\n",
       "<p>1 rows × 24 columns</p>\n",
       "</div>"
      ],
      "text/plain": [
       "      LAST_NME FIRST_NME MIDDLE_INITIAL SEX_CODE_CD   RACE  DOBYEAR  CURRAGE  \\\n",
       "14690    KIRBY   BRANDON              H           M  WHITE   1987.0     28.0   \n",
       "\n",
       "      STATUS_I APPOINTED_DATE EMPLOYEE_POSITION_CD   ...      STAR1    STAR2  \\\n",
       "14690        Y     2012-04-02                 9161   ...    18291.0  13335.0   \n",
       "\n",
       "      STAR3 STAR4  STAR5  STAR6  STAR7  STAR8  STAR9  STAR10  \n",
       "14690   NaN   NaN    NaN    NaN    NaN    NaN    NaN     NaN  \n",
       "\n",
       "[1 rows x 24 columns]"
      ]
     },
     "execution_count": 321,
     "metadata": {},
     "output_type": "execute_result"
    }
   ],
   "source": [
    "temp"
   ]
  },
  {
   "cell_type": "markdown",
   "metadata": {},
   "source": [
    "** LAST_NAME = STAUNTON **"
   ]
  },
  {
   "cell_type": "code",
   "execution_count": 322,
   "metadata": {
    "collapsed": false
   },
   "outputs": [
    {
     "data": {
      "text/html": [
       "<div>\n",
       "<table border=\"1\" class=\"dataframe\">\n",
       "  <thead>\n",
       "    <tr style=\"text-align: right;\">\n",
       "      <th></th>\n",
       "      <th>LAST_NME</th>\n",
       "      <th>FIRST_NME</th>\n",
       "      <th>MIDDLE_INITIAL</th>\n",
       "      <th>SEX_CODE_CD</th>\n",
       "      <th>RACE</th>\n",
       "      <th>DOBYEAR</th>\n",
       "      <th>CURRAGE</th>\n",
       "      <th>STATUS_I</th>\n",
       "      <th>APPOINTED_DATE</th>\n",
       "      <th>EMPLOYEE_POSITION_CD</th>\n",
       "      <th>...</th>\n",
       "      <th>STAR1</th>\n",
       "      <th>STAR2</th>\n",
       "      <th>STAR3</th>\n",
       "      <th>STAR4</th>\n",
       "      <th>STAR5</th>\n",
       "      <th>STAR6</th>\n",
       "      <th>STAR7</th>\n",
       "      <th>STAR8</th>\n",
       "      <th>STAR9</th>\n",
       "      <th>STAR10</th>\n",
       "    </tr>\n",
       "  </thead>\n",
       "  <tbody>\n",
       "  </tbody>\n",
       "</table>\n",
       "<p>0 rows × 24 columns</p>\n",
       "</div>"
      ],
      "text/plain": [
       "Empty DataFrame\n",
       "Columns: [LAST_NME, FIRST_NME, MIDDLE_INITIAL, SEX_CODE_CD, RACE, DOBYEAR, CURRAGE, STATUS_I, APPOINTED_DATE, EMPLOYEE_POSITION_CD, DESCR, CPD_UNIT_ASSIGNED_NO, UNITDESCR, RESIGNATION_DATE, STAR1, STAR2, STAR3, STAR4, STAR5, STAR6, STAR7, STAR8, STAR9, STAR10]\n",
       "Index: []\n",
       "\n",
       "[0 rows x 24 columns]"
      ]
     },
     "execution_count": 322,
     "metadata": {},
     "output_type": "execute_result"
    }
   ],
   "source": [
    "name = 'STAUNTON'\n",
    "temp = no_name_match[name]\n",
    "temp[temp.CPD_UNIT_ASSIGNED_NO == \n",
    "     matched_df[matched_df.ACCUSEDOFFICER_LNAME==name].ACCUSED_UNIT.values[0]]"
   ]
  },
  {
   "cell_type": "code",
   "execution_count": 323,
   "metadata": {
    "collapsed": false
   },
   "outputs": [
    {
     "data": {
      "text/html": [
       "<div>\n",
       "<table border=\"1\" class=\"dataframe\">\n",
       "  <thead>\n",
       "    <tr style=\"text-align: right;\">\n",
       "      <th></th>\n",
       "      <th>LAST_NME</th>\n",
       "      <th>FIRST_NME</th>\n",
       "      <th>MIDDLE_INITIAL</th>\n",
       "      <th>SEX_CODE_CD</th>\n",
       "      <th>RACE</th>\n",
       "      <th>DOBYEAR</th>\n",
       "      <th>CURRAGE</th>\n",
       "      <th>STATUS_I</th>\n",
       "      <th>APPOINTED_DATE</th>\n",
       "      <th>EMPLOYEE_POSITION_CD</th>\n",
       "      <th>...</th>\n",
       "      <th>STAR1</th>\n",
       "      <th>STAR2</th>\n",
       "      <th>STAR3</th>\n",
       "      <th>STAR4</th>\n",
       "      <th>STAR5</th>\n",
       "      <th>STAR6</th>\n",
       "      <th>STAR7</th>\n",
       "      <th>STAR8</th>\n",
       "      <th>STAR9</th>\n",
       "      <th>STAR10</th>\n",
       "    </tr>\n",
       "  </thead>\n",
       "  <tbody>\n",
       "    <tr>\n",
       "      <th>11417</th>\n",
       "      <td>HARPER</td>\n",
       "      <td>JERRY</td>\n",
       "      <td>NaN</td>\n",
       "      <td>M</td>\n",
       "      <td>BLACK</td>\n",
       "      <td>1948.0</td>\n",
       "      <td>68.0</td>\n",
       "      <td>N</td>\n",
       "      <td>1980-10-01</td>\n",
       "      <td>9161</td>\n",
       "      <td>...</td>\n",
       "      <td>5783.0</td>\n",
       "      <td>NaN</td>\n",
       "      <td>NaN</td>\n",
       "      <td>NaN</td>\n",
       "      <td>NaN</td>\n",
       "      <td>NaN</td>\n",
       "      <td>NaN</td>\n",
       "      <td>NaN</td>\n",
       "      <td>NaN</td>\n",
       "      <td>NaN</td>\n",
       "    </tr>\n",
       "  </tbody>\n",
       "</table>\n",
       "<p>1 rows × 24 columns</p>\n",
       "</div>"
      ],
      "text/plain": [
       "      LAST_NME FIRST_NME MIDDLE_INITIAL SEX_CODE_CD   RACE  DOBYEAR  CURRAGE  \\\n",
       "11417   HARPER     JERRY            NaN           M  BLACK   1948.0     68.0   \n",
       "\n",
       "      STATUS_I APPOINTED_DATE EMPLOYEE_POSITION_CD   ...     STAR1  STAR2  \\\n",
       "11417        N     1980-10-01                 9161   ...    5783.0    NaN   \n",
       "\n",
       "      STAR3 STAR4  STAR5  STAR6  STAR7  STAR8  STAR9  STAR10  \n",
       "11417   NaN   NaN    NaN    NaN    NaN    NaN    NaN     NaN  \n",
       "\n",
       "[1 rows x 24 columns]"
      ]
     },
     "execution_count": 323,
     "metadata": {},
     "output_type": "execute_result"
    }
   ],
   "source": [
    "temp"
   ]
  },
  {
   "cell_type": "markdown",
   "metadata": {},
   "source": [
    "** LAST_NAME = WILLIAMSON **"
   ]
  },
  {
   "cell_type": "code",
   "execution_count": 324,
   "metadata": {
    "collapsed": false
   },
   "outputs": [
    {
     "data": {
      "text/html": [
       "<div>\n",
       "<table border=\"1\" class=\"dataframe\">\n",
       "  <thead>\n",
       "    <tr style=\"text-align: right;\">\n",
       "      <th></th>\n",
       "      <th>LAST_NME</th>\n",
       "      <th>FIRST_NME</th>\n",
       "      <th>MIDDLE_INITIAL</th>\n",
       "      <th>SEX_CODE_CD</th>\n",
       "      <th>RACE</th>\n",
       "      <th>DOBYEAR</th>\n",
       "      <th>CURRAGE</th>\n",
       "      <th>STATUS_I</th>\n",
       "      <th>APPOINTED_DATE</th>\n",
       "      <th>EMPLOYEE_POSITION_CD</th>\n",
       "      <th>...</th>\n",
       "      <th>STAR1</th>\n",
       "      <th>STAR2</th>\n",
       "      <th>STAR3</th>\n",
       "      <th>STAR4</th>\n",
       "      <th>STAR5</th>\n",
       "      <th>STAR6</th>\n",
       "      <th>STAR7</th>\n",
       "      <th>STAR8</th>\n",
       "      <th>STAR9</th>\n",
       "      <th>STAR10</th>\n",
       "    </tr>\n",
       "  </thead>\n",
       "  <tbody>\n",
       "  </tbody>\n",
       "</table>\n",
       "<p>0 rows × 24 columns</p>\n",
       "</div>"
      ],
      "text/plain": [
       "Empty DataFrame\n",
       "Columns: [LAST_NME, FIRST_NME, MIDDLE_INITIAL, SEX_CODE_CD, RACE, DOBYEAR, CURRAGE, STATUS_I, APPOINTED_DATE, EMPLOYEE_POSITION_CD, DESCR, CPD_UNIT_ASSIGNED_NO, UNITDESCR, RESIGNATION_DATE, STAR1, STAR2, STAR3, STAR4, STAR5, STAR6, STAR7, STAR8, STAR9, STAR10]\n",
       "Index: []\n",
       "\n",
       "[0 rows x 24 columns]"
      ]
     },
     "execution_count": 324,
     "metadata": {},
     "output_type": "execute_result"
    }
   ],
   "source": [
    "name = 'WILLIAMSON'\n",
    "temp = no_name_match[name]\n",
    "temp[temp.CPD_UNIT_ASSIGNED_NO == \n",
    "     matched_df[matched_df.ACCUSEDOFFICER_LNAME==name].ACCUSED_UNIT.values[0]]"
   ]
  },
  {
   "cell_type": "code",
   "execution_count": 325,
   "metadata": {
    "collapsed": false
   },
   "outputs": [
    {
     "data": {
      "text/html": [
       "<div>\n",
       "<table border=\"1\" class=\"dataframe\">\n",
       "  <thead>\n",
       "    <tr style=\"text-align: right;\">\n",
       "      <th></th>\n",
       "      <th>LAST_NME</th>\n",
       "      <th>FIRST_NME</th>\n",
       "      <th>MIDDLE_INITIAL</th>\n",
       "      <th>SEX_CODE_CD</th>\n",
       "      <th>RACE</th>\n",
       "      <th>DOBYEAR</th>\n",
       "      <th>CURRAGE</th>\n",
       "      <th>STATUS_I</th>\n",
       "      <th>APPOINTED_DATE</th>\n",
       "      <th>EMPLOYEE_POSITION_CD</th>\n",
       "      <th>...</th>\n",
       "      <th>STAR1</th>\n",
       "      <th>STAR2</th>\n",
       "      <th>STAR3</th>\n",
       "      <th>STAR4</th>\n",
       "      <th>STAR5</th>\n",
       "      <th>STAR6</th>\n",
       "      <th>STAR7</th>\n",
       "      <th>STAR8</th>\n",
       "      <th>STAR9</th>\n",
       "      <th>STAR10</th>\n",
       "    </tr>\n",
       "  </thead>\n",
       "  <tbody>\n",
       "    <tr>\n",
       "      <th>18117</th>\n",
       "      <td>MC FADDEN JR</td>\n",
       "      <td>GARDNER</td>\n",
       "      <td>E</td>\n",
       "      <td>M</td>\n",
       "      <td>BLACK</td>\n",
       "      <td>1972.0</td>\n",
       "      <td>43.0</td>\n",
       "      <td>Y</td>\n",
       "      <td>1994-12-01</td>\n",
       "      <td>9161</td>\n",
       "      <td>...</td>\n",
       "      <td>4446.0</td>\n",
       "      <td>NaN</td>\n",
       "      <td>NaN</td>\n",
       "      <td>NaN</td>\n",
       "      <td>NaN</td>\n",
       "      <td>NaN</td>\n",
       "      <td>NaN</td>\n",
       "      <td>NaN</td>\n",
       "      <td>NaN</td>\n",
       "      <td>NaN</td>\n",
       "    </tr>\n",
       "  </tbody>\n",
       "</table>\n",
       "<p>1 rows × 24 columns</p>\n",
       "</div>"
      ],
      "text/plain": [
       "           LAST_NME FIRST_NME MIDDLE_INITIAL SEX_CODE_CD   RACE  DOBYEAR  \\\n",
       "18117  MC FADDEN JR   GARDNER              E           M  BLACK   1972.0   \n",
       "\n",
       "       CURRAGE STATUS_I APPOINTED_DATE EMPLOYEE_POSITION_CD   ...     STAR1  \\\n",
       "18117     43.0        Y     1994-12-01                 9161   ...    4446.0   \n",
       "\n",
       "       STAR2 STAR3 STAR4  STAR5  STAR6  STAR7  STAR8  STAR9  STAR10  \n",
       "18117    NaN   NaN   NaN    NaN    NaN    NaN    NaN    NaN     NaN  \n",
       "\n",
       "[1 rows x 24 columns]"
      ]
     },
     "execution_count": 325,
     "metadata": {},
     "output_type": "execute_result"
    }
   ],
   "source": [
    "temp"
   ]
  },
  {
   "cell_type": "markdown",
   "metadata": {},
   "source": [
    "**LAST_NAME = FRIERSON **"
   ]
  },
  {
   "cell_type": "code",
   "execution_count": 326,
   "metadata": {
    "collapsed": false
   },
   "outputs": [
    {
     "data": {
      "text/html": [
       "<div>\n",
       "<table border=\"1\" class=\"dataframe\">\n",
       "  <thead>\n",
       "    <tr style=\"text-align: right;\">\n",
       "      <th></th>\n",
       "      <th>LAST_NME</th>\n",
       "      <th>FIRST_NME</th>\n",
       "      <th>MIDDLE_INITIAL</th>\n",
       "      <th>SEX_CODE_CD</th>\n",
       "      <th>RACE</th>\n",
       "      <th>DOBYEAR</th>\n",
       "      <th>CURRAGE</th>\n",
       "      <th>STATUS_I</th>\n",
       "      <th>APPOINTED_DATE</th>\n",
       "      <th>EMPLOYEE_POSITION_CD</th>\n",
       "      <th>...</th>\n",
       "      <th>STAR1</th>\n",
       "      <th>STAR2</th>\n",
       "      <th>STAR3</th>\n",
       "      <th>STAR4</th>\n",
       "      <th>STAR5</th>\n",
       "      <th>STAR6</th>\n",
       "      <th>STAR7</th>\n",
       "      <th>STAR8</th>\n",
       "      <th>STAR9</th>\n",
       "      <th>STAR10</th>\n",
       "    </tr>\n",
       "  </thead>\n",
       "  <tbody>\n",
       "  </tbody>\n",
       "</table>\n",
       "<p>0 rows × 24 columns</p>\n",
       "</div>"
      ],
      "text/plain": [
       "Empty DataFrame\n",
       "Columns: [LAST_NME, FIRST_NME, MIDDLE_INITIAL, SEX_CODE_CD, RACE, DOBYEAR, CURRAGE, STATUS_I, APPOINTED_DATE, EMPLOYEE_POSITION_CD, DESCR, CPD_UNIT_ASSIGNED_NO, UNITDESCR, RESIGNATION_DATE, STAR1, STAR2, STAR3, STAR4, STAR5, STAR6, STAR7, STAR8, STAR9, STAR10]\n",
       "Index: []\n",
       "\n",
       "[0 rows x 24 columns]"
      ]
     },
     "execution_count": 326,
     "metadata": {},
     "output_type": "execute_result"
    }
   ],
   "source": [
    "name = 'FRIERSON'\n",
    "temp = no_name_match[name]\n",
    "temp[temp.CPD_UNIT_ASSIGNED_NO == \n",
    "     matched_df[matched_df.ACCUSEDOFFICER_LNAME==name].ACCUSED_UNIT.values[0]]"
   ]
  },
  {
   "cell_type": "code",
   "execution_count": 327,
   "metadata": {
    "collapsed": false
   },
   "outputs": [
    {
     "data": {
      "text/html": [
       "<div>\n",
       "<table border=\"1\" class=\"dataframe\">\n",
       "  <thead>\n",
       "    <tr style=\"text-align: right;\">\n",
       "      <th></th>\n",
       "      <th>LAST_NME</th>\n",
       "      <th>FIRST_NME</th>\n",
       "      <th>MIDDLE_INITIAL</th>\n",
       "      <th>SEX_CODE_CD</th>\n",
       "      <th>RACE</th>\n",
       "      <th>DOBYEAR</th>\n",
       "      <th>CURRAGE</th>\n",
       "      <th>STATUS_I</th>\n",
       "      <th>APPOINTED_DATE</th>\n",
       "      <th>EMPLOYEE_POSITION_CD</th>\n",
       "      <th>...</th>\n",
       "      <th>STAR1</th>\n",
       "      <th>STAR2</th>\n",
       "      <th>STAR3</th>\n",
       "      <th>STAR4</th>\n",
       "      <th>STAR5</th>\n",
       "      <th>STAR6</th>\n",
       "      <th>STAR7</th>\n",
       "      <th>STAR8</th>\n",
       "      <th>STAR9</th>\n",
       "      <th>STAR10</th>\n",
       "    </tr>\n",
       "  </thead>\n",
       "  <tbody>\n",
       "    <tr>\n",
       "      <th>14690</th>\n",
       "      <td>KIRBY</td>\n",
       "      <td>BRANDON</td>\n",
       "      <td>H</td>\n",
       "      <td>M</td>\n",
       "      <td>WHITE</td>\n",
       "      <td>1987.0</td>\n",
       "      <td>28.0</td>\n",
       "      <td>Y</td>\n",
       "      <td>2012-04-02</td>\n",
       "      <td>9161</td>\n",
       "      <td>...</td>\n",
       "      <td>18291.0</td>\n",
       "      <td>13335.0</td>\n",
       "      <td>NaN</td>\n",
       "      <td>NaN</td>\n",
       "      <td>NaN</td>\n",
       "      <td>NaN</td>\n",
       "      <td>NaN</td>\n",
       "      <td>NaN</td>\n",
       "      <td>NaN</td>\n",
       "      <td>NaN</td>\n",
       "    </tr>\n",
       "  </tbody>\n",
       "</table>\n",
       "<p>1 rows × 24 columns</p>\n",
       "</div>"
      ],
      "text/plain": [
       "      LAST_NME FIRST_NME MIDDLE_INITIAL SEX_CODE_CD   RACE  DOBYEAR  CURRAGE  \\\n",
       "14690    KIRBY   BRANDON              H           M  WHITE   1987.0     28.0   \n",
       "\n",
       "      STATUS_I APPOINTED_DATE EMPLOYEE_POSITION_CD   ...      STAR1    STAR2  \\\n",
       "14690        Y     2012-04-02                 9161   ...    18291.0  13335.0   \n",
       "\n",
       "      STAR3 STAR4  STAR5  STAR6  STAR7  STAR8  STAR9  STAR10  \n",
       "14690   NaN   NaN    NaN    NaN    NaN    NaN    NaN     NaN  \n",
       "\n",
       "[1 rows x 24 columns]"
      ]
     },
     "execution_count": 327,
     "metadata": {},
     "output_type": "execute_result"
    }
   ],
   "source": [
    "temp"
   ]
  },
  {
   "cell_type": "markdown",
   "metadata": {},
   "source": [
    "** LAST_NAME = JORDAN **"
   ]
  },
  {
   "cell_type": "code",
   "execution_count": 328,
   "metadata": {
    "collapsed": false
   },
   "outputs": [
    {
     "data": {
      "text/html": [
       "<div>\n",
       "<table border=\"1\" class=\"dataframe\">\n",
       "  <thead>\n",
       "    <tr style=\"text-align: right;\">\n",
       "      <th></th>\n",
       "      <th>LAST_NME</th>\n",
       "      <th>FIRST_NME</th>\n",
       "      <th>MIDDLE_INITIAL</th>\n",
       "      <th>SEX_CODE_CD</th>\n",
       "      <th>RACE</th>\n",
       "      <th>DOBYEAR</th>\n",
       "      <th>CURRAGE</th>\n",
       "      <th>STATUS_I</th>\n",
       "      <th>APPOINTED_DATE</th>\n",
       "      <th>EMPLOYEE_POSITION_CD</th>\n",
       "      <th>...</th>\n",
       "      <th>STAR1</th>\n",
       "      <th>STAR2</th>\n",
       "      <th>STAR3</th>\n",
       "      <th>STAR4</th>\n",
       "      <th>STAR5</th>\n",
       "      <th>STAR6</th>\n",
       "      <th>STAR7</th>\n",
       "      <th>STAR8</th>\n",
       "      <th>STAR9</th>\n",
       "      <th>STAR10</th>\n",
       "    </tr>\n",
       "  </thead>\n",
       "  <tbody>\n",
       "  </tbody>\n",
       "</table>\n",
       "<p>0 rows × 24 columns</p>\n",
       "</div>"
      ],
      "text/plain": [
       "Empty DataFrame\n",
       "Columns: [LAST_NME, FIRST_NME, MIDDLE_INITIAL, SEX_CODE_CD, RACE, DOBYEAR, CURRAGE, STATUS_I, APPOINTED_DATE, EMPLOYEE_POSITION_CD, DESCR, CPD_UNIT_ASSIGNED_NO, UNITDESCR, RESIGNATION_DATE, STAR1, STAR2, STAR3, STAR4, STAR5, STAR6, STAR7, STAR8, STAR9, STAR10]\n",
       "Index: []\n",
       "\n",
       "[0 rows x 24 columns]"
      ]
     },
     "execution_count": 328,
     "metadata": {},
     "output_type": "execute_result"
    }
   ],
   "source": [
    "name = 'JORDAN'\n",
    "temp = no_name_match[name]\n",
    "temp[temp.CPD_UNIT_ASSIGNED_NO == \n",
    "     matched_df[matched_df.ACCUSEDOFFICER_LNAME==name].ACCUSED_UNIT.values[0]]"
   ]
  },
  {
   "cell_type": "code",
   "execution_count": 330,
   "metadata": {
    "collapsed": false
   },
   "outputs": [
    {
     "data": {
      "text/plain": [
       "array(['AGUIRRE', 'ARMSTEAD', 'ARNOLD', 'BARTEL', 'BARTON', 'BARTUCCI',\n",
       "       'BELCIK', 'BILES', 'BLECHARCZYK', 'BURLEIGH', 'CARLSON',\n",
       "       'CARMICKLE', 'CLARK', 'CLAUDIO', 'CLYNE', 'COLON', 'CORRAL',\n",
       "       'COUCH', 'CZARNIK', 'DE LA ROSA', 'DELANEY', 'DIBLICH', 'DOHERTY',\n",
       "       'DUCAR', 'DUDZIK', 'EBERSOLE', 'FLOREK', 'GARCIA', 'GARNER',\n",
       "       'GAWLOWSKI', 'GLYNN', 'GOLLOGLY', 'HALL', 'HARGROVE', 'HARRIS',\n",
       "       'HILLARD', 'HOMER', 'HUMMONS', 'JACINTO', 'JAROSZ', 'JUNIOUS',\n",
       "       'KISSANE', 'KLEIN', 'KRAL', 'KUMIGA', 'LAFRANCIS', 'LANGAN',\n",
       "       'LEADER', 'LEHRMANN', 'LEIGHTON', 'LEON', 'LUND', 'MARASIGAN',\n",
       "       'MARINO', 'MCALEER', 'MCBRIDE', 'MELLETT', 'MIKHAIL', 'MONTANARO',\n",
       "       'MORRIS', 'MUDD', 'MURPHY', 'MUSGRAVES', 'NELLUM BRADLE', 'NICPON',\n",
       "       'NIETO', 'NOWELLS', 'OLUGBALA', 'OSTROWSKI', 'PAPKE', 'PAUL',\n",
       "       'PRUGER', 'RAMIREZ', 'RHODES', 'RIVERA', 'ROBIN', 'RODRIGUEZ',\n",
       "       'ROMAN', 'SALYERS', 'SANCHEZ', 'SANDOMIERSKI', 'SANTIAGO',\n",
       "       'SCHWARZER', 'SEBEK', 'SHIELDS', 'SIEDLECKI', 'SMITH', 'STEELE',\n",
       "       'STENZEL', 'SUEN', 'SURGIT', 'SWEENEY', 'TOLEDO', 'TOTTAS',\n",
       "       'TURNER', 'VALADEZ', 'VALENZUELA', 'VARGAS', 'VAZQUEZ', 'VEGA',\n",
       "       'VITERI', 'WEBB', 'WESTCOTT', 'WHITTINGHAM', 'WILLIS', 'WINFREY',\n",
       "       'WOOLSEY', 'ZAYAS', 'ZIEGLER'], dtype=object)"
      ]
     },
     "execution_count": 330,
     "metadata": {},
     "output_type": "execute_result"
    }
   ],
   "source": [
    "temp.LAST_NME.unique()"
   ]
  },
  {
   "cell_type": "markdown",
   "metadata": {},
   "source": [
    "** LAST_NAME = WILLABY **"
   ]
  },
  {
   "cell_type": "code",
   "execution_count": 333,
   "metadata": {
    "collapsed": false
   },
   "outputs": [
    {
     "data": {
      "text/html": [
       "<div>\n",
       "<table border=\"1\" class=\"dataframe\">\n",
       "  <thead>\n",
       "    <tr style=\"text-align: right;\">\n",
       "      <th></th>\n",
       "      <th>LAST_NME</th>\n",
       "      <th>FIRST_NME</th>\n",
       "      <th>MIDDLE_INITIAL</th>\n",
       "      <th>SEX_CODE_CD</th>\n",
       "      <th>RACE</th>\n",
       "      <th>DOBYEAR</th>\n",
       "      <th>CURRAGE</th>\n",
       "      <th>STATUS_I</th>\n",
       "      <th>APPOINTED_DATE</th>\n",
       "      <th>EMPLOYEE_POSITION_CD</th>\n",
       "      <th>...</th>\n",
       "      <th>STAR1</th>\n",
       "      <th>STAR2</th>\n",
       "      <th>STAR3</th>\n",
       "      <th>STAR4</th>\n",
       "      <th>STAR5</th>\n",
       "      <th>STAR6</th>\n",
       "      <th>STAR7</th>\n",
       "      <th>STAR8</th>\n",
       "      <th>STAR9</th>\n",
       "      <th>STAR10</th>\n",
       "    </tr>\n",
       "  </thead>\n",
       "  <tbody>\n",
       "    <tr>\n",
       "      <th>28592</th>\n",
       "      <td>TOLEDO</td>\n",
       "      <td>PETER</td>\n",
       "      <td>H</td>\n",
       "      <td>M</td>\n",
       "      <td>WHITE HISPANIC</td>\n",
       "      <td>1978.0</td>\n",
       "      <td>38.0</td>\n",
       "      <td>Y</td>\n",
       "      <td>2005-12-05</td>\n",
       "      <td>9171</td>\n",
       "      <td>...</td>\n",
       "      <td>15611.0</td>\n",
       "      <td>5411.0</td>\n",
       "      <td>2105.0</td>\n",
       "      <td>NaN</td>\n",
       "      <td>NaN</td>\n",
       "      <td>NaN</td>\n",
       "      <td>NaN</td>\n",
       "      <td>NaN</td>\n",
       "      <td>NaN</td>\n",
       "      <td>NaN</td>\n",
       "    </tr>\n",
       "  </tbody>\n",
       "</table>\n",
       "<p>1 rows × 24 columns</p>\n",
       "</div>"
      ],
      "text/plain": [
       "      LAST_NME FIRST_NME MIDDLE_INITIAL SEX_CODE_CD            RACE  DOBYEAR  \\\n",
       "28592   TOLEDO     PETER              H           M  WHITE HISPANIC   1978.0   \n",
       "\n",
       "       CURRAGE STATUS_I APPOINTED_DATE EMPLOYEE_POSITION_CD   ...      STAR1  \\\n",
       "28592     38.0        Y     2005-12-05                 9171   ...    15611.0   \n",
       "\n",
       "        STAR2   STAR3 STAR4  STAR5  STAR6  STAR7  STAR8  STAR9  STAR10  \n",
       "28592  5411.0  2105.0   NaN    NaN    NaN    NaN    NaN    NaN     NaN  \n",
       "\n",
       "[1 rows x 24 columns]"
      ]
     },
     "execution_count": 333,
     "metadata": {},
     "output_type": "execute_result"
    }
   ],
   "source": [
    "name = 'WILLABY'\n",
    "temp = no_name_match[name]\n",
    "temp[temp.CPD_UNIT_ASSIGNED_NO == \n",
    "     matched_df[matched_df.ACCUSEDOFFICER_LNAME==name].ACCUSED_UNIT.values[0]]"
   ]
  },
  {
   "cell_type": "code",
   "execution_count": 335,
   "metadata": {
    "collapsed": false
   },
   "outputs": [
    {
     "data": {
      "text/plain": [
       "array(['AGUIRRE', 'ARMSTEAD', 'ARNOLD', 'BARTEL', 'BARTON', 'BARTUCCI',\n",
       "       'BELCIK', 'BILES', 'BLECHARCZYK', 'BURLEIGH', 'CARLSON',\n",
       "       'CARMICKLE', 'CLARK', 'CLAUDIO', 'CLYNE', 'COLON', 'CORRAL',\n",
       "       'COUCH', 'CZARNIK', 'DE LA ROSA', 'DELANEY', 'DIBLICH', 'DOHERTY',\n",
       "       'DUCAR', 'DUDZIK', 'EBERSOLE', 'FLOREK', 'GARCIA', 'GARNER',\n",
       "       'GAWLOWSKI', 'GLYNN', 'GOLLOGLY', 'HALL', 'HARGROVE', 'HARRIS',\n",
       "       'HILLARD', 'HOMER', 'HUMMONS', 'JACINTO', 'JAROSZ', 'JUNIOUS',\n",
       "       'KISSANE', 'KLEIN', 'KRAL', 'KUMIGA', 'LAFRANCIS', 'LANGAN',\n",
       "       'LEADER', 'LEHRMANN', 'LEIGHTON', 'LEON', 'LUND', 'MARASIGAN',\n",
       "       'MARINO', 'MCALEER', 'MCBRIDE', 'MELLETT', 'MIKHAIL', 'MONTANARO',\n",
       "       'MORRIS', 'MUDD', 'MURPHY', 'MUSGRAVES', 'NELLUM BRADLE', 'NICPON',\n",
       "       'NIETO', 'NOWELLS', 'OLUGBALA', 'OSTROWSKI', 'PAPKE', 'PAUL',\n",
       "       'PRUGER', 'RAMIREZ', 'RHODES', 'RIVERA', 'ROBIN', 'RODRIGUEZ',\n",
       "       'ROMAN', 'SALYERS', 'SANCHEZ', 'SANDOMIERSKI', 'SANTIAGO',\n",
       "       'SCHWARZER', 'SEBEK', 'SHIELDS', 'SIEDLECKI', 'SMITH', 'STEELE',\n",
       "       'STENZEL', 'SUEN', 'SURGIT', 'SWEENEY', 'TOLEDO', 'TOTTAS',\n",
       "       'TURNER', 'VALADEZ', 'VALENZUELA', 'VARGAS', 'VAZQUEZ', 'VEGA',\n",
       "       'VITERI', 'WEBB', 'WESTCOTT', 'WHITTINGHAM', 'WILLIS', 'WINFREY',\n",
       "       'WOOLSEY', 'ZAYAS', 'ZIEGLER'], dtype=object)"
      ]
     },
     "execution_count": 335,
     "metadata": {},
     "output_type": "execute_result"
    }
   ],
   "source": [
    "temp.LAST_NME.unique()"
   ]
  },
  {
   "cell_type": "code",
   "execution_count": null,
   "metadata": {
    "collapsed": true
   },
   "outputs": [],
   "source": []
  }
 ],
 "metadata": {
  "kernelspec": {
   "display_name": "Python 3",
   "language": "python",
   "name": "python3"
  },
  "language_info": {
   "codemirror_mode": {
    "name": "ipython",
    "version": 3
   },
   "file_extension": ".py",
   "mimetype": "text/x-python",
   "name": "python",
   "nbconvert_exporter": "python",
   "pygments_lexer": "ipython3",
   "version": "3.5.1"
  }
 },
 "nbformat": 4,
 "nbformat_minor": 0
}
