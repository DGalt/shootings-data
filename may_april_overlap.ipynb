{
 "cells": [
  {
   "cell_type": "code",
   "execution_count": 1,
   "metadata": {
    "collapsed": true
   },
   "outputs": [],
   "source": [
    "import pandas as pd"
   ]
  },
  {
   "cell_type": "code",
   "execution_count": 36,
   "metadata": {
    "collapsed": false
   },
   "outputs": [],
   "source": [
    "april = pd.read_csv('./big_data_ignore/clean_april.csv', low_memory=False)\n",
    "may = pd.read_csv('./big_data_ignore/clean_may.csv', low_memory=False)"
   ]
  },
  {
   "cell_type": "code",
   "execution_count": 115,
   "metadata": {
    "collapsed": false
   },
   "outputs": [],
   "source": [
    "overlap = [complaint for complaint in may_complaint if complaint in april_complaint]\n",
    "may_overlap = may.set_index('complaint_number').loc[overlap].reset_index()\n",
    "april_overlap = april.set_index('complaint_number').loc[overlap].reset_index()"
   ]
  },
  {
   "cell_type": "code",
   "execution_count": 116,
   "metadata": {
    "collapsed": false
   },
   "outputs": [],
   "source": [
    "april_overlap['full_name'] = april_overlap.accused_officer_fname.astype(str) + '_' + \\\n",
    "                             april_overlap.accused_officer_lname.astype(str)\n",
    "    \n",
    "may_overlap['full_name'] = may_overlap.accused_officer_fname.astype(str) + '_' + \\\n",
    "                           may_overlap.accused_officer_lname.astype(str)"
   ]
  },
  {
   "cell_type": "code",
   "execution_count": 117,
   "metadata": {
    "collapsed": true
   },
   "outputs": [],
   "source": [
    "cols = [col for col in april_overlap.columns if col != 'complaint_number']\n",
    "group = april_overlap.groupby('complaint_number')\n",
    "df_list = [group[col].unique().reset_index() for col in cols]\n",
    "\n",
    "april_summary = df_list[0]\n",
    "for col_df in df_list[1:]:\n",
    "    april_summary = pd.merge(april_summary, col_df, on='complaint_number')\n",
    "    \n",
    "    \n",
    "cols = [col for col in may_overlap.columns if col != 'complaint_number']\n",
    "group = may_overlap.groupby('complaint_number')\n",
    "df_list = [group[col].unique().reset_index() for col in cols]\n",
    "\n",
    "may_summary = df_list[0]\n",
    "for col_df in df_list[1:]:\n",
    "    may_summary = pd.merge(may_summary, col_df, on='complaint_number')"
   ]
  },
  {
   "cell_type": "code",
   "execution_count": 118,
   "metadata": {
    "collapsed": false
   },
   "outputs": [],
   "source": [
    "def get_names(nlist, fname=True):\n",
    "    if fname:\n",
    "        return [name.split('_')[0] for name in nlist]\n",
    "    else:\n",
    "        return [name.split('_')[1] for name in nlist]\n",
    "    \n",
    "april_summary.accused_officer_fname = april_summary.full_name.apply(get_names)\n",
    "april_summary.accused_officer_lname = april_summary.full_name.apply(get_names, fname=False)\n",
    "may_summary.accused_officer_fname = may_summary.full_name.apply(get_names)\n",
    "may_summary.accused_officer_lname = may_summary.full_name.apply(get_names, fname=False)\n",
    "\n",
    "april_summary.drop('full_name', axis=1, inplace=True)\n",
    "may_summary.drop('full_name', axis=1, inplace=True)"
   ]
  },
  {
   "cell_type": "code",
   "execution_count": 119,
   "metadata": {
    "collapsed": false
   },
   "outputs": [],
   "source": [
    "cols = april_summary.columns.tolist()[1:]\n",
    "april_summary[cols] = april_summary[cols].applymap(lambda x: x[0] if len(x)==1 else x)\n",
    "\n",
    "cols = may_summary.columns.tolist()[1:]\n",
    "may_summary[cols] = may_summary[cols].applymap(lambda x: x[0] if len(x)==1 else x)"
   ]
  },
  {
   "cell_type": "code",
   "execution_count": 122,
   "metadata": {
    "collapsed": false
   },
   "outputs": [],
   "source": [
    "april_summary.to_csv('./big_data_ignore/april_overlap.csv')\n",
    "may_summary.to_csv('./big_data_ignore/may_overlap.csv')"
   ]
  },
  {
   "cell_type": "code",
   "execution_count": 125,
   "metadata": {
    "collapsed": false
   },
   "outputs": [
    {
     "data": {
      "text/plain": [
       "161"
      ]
     },
     "execution_count": 125,
     "metadata": {},
     "output_type": "execute_result"
    }
   ],
   "source": [
    "len([crid for crid in april_complaint if crid in may_complaint])"
   ]
  },
  {
   "cell_type": "code",
   "execution_count": null,
   "metadata": {
    "collapsed": true
   },
   "outputs": [],
   "source": []
  }
 ],
 "metadata": {
  "kernelspec": {
   "display_name": "Python 3",
   "language": "python",
   "name": "python3"
  },
  "language_info": {
   "codemirror_mode": {
    "name": "ipython",
    "version": 3
   },
   "file_extension": ".py",
   "mimetype": "text/x-python",
   "name": "python",
   "nbconvert_exporter": "python",
   "pygments_lexer": "ipython3",
   "version": "3.5.1"
  }
 },
 "nbformat": 4,
 "nbformat_minor": 0
}
