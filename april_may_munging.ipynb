{
 "cells": [
  {
   "cell_type": "code",
   "execution_count": 2,
   "metadata": {
    "collapsed": true
   },
   "outputs": [],
   "source": [
    "import pandas as pd\n",
    "from glob import glob\n",
    "import numpy as np"
   ]
  },
  {
   "cell_type": "code",
   "execution_count": 3,
   "metadata": {
    "collapsed": true
   },
   "outputs": [],
   "source": [
    "sht_apd = pd.read_csv('./Raw/shootings-append.csv', low_memory=False)"
   ]
  },
  {
   "cell_type": "code",
   "execution_count": 4,
   "metadata": {
    "collapsed": false,
    "scrolled": true
   },
   "outputs": [
    {
     "data": {
      "text/plain": [
       "['./Raw/raw dump April2016/All complaints during 2013.xls',\n",
       " './Raw/raw dump April2016/All complaints during 2012.xls',\n",
       " './Raw/raw dump April2016/All complaints during 2014.xls',\n",
       " './Raw/raw dump April2016/All complaints during 2016YTD.xls',\n",
       " './Raw/raw dump April2016/All complaints during 2015.xls']"
      ]
     },
     "execution_count": 4,
     "metadata": {},
     "output_type": "execute_result"
    }
   ],
   "source": [
    "april_files = glob('./Raw/raw dump April2016/*All*')\n",
    "april_files"
   ]
  },
  {
   "cell_type": "code",
   "execution_count": 5,
   "metadata": {
    "collapsed": true
   },
   "outputs": [],
   "source": [
    "df_list = [pd.read_excel(file) for file in april_files]\n",
    "april_df = pd.concat(df_list, ignore_index=True)"
   ]
  },
  {
   "cell_type": "code",
   "execution_count": 10,
   "metadata": {
    "collapsed": false
   },
   "outputs": [],
   "source": [
    "may_df = pd.read_csv('./Clean/May2016/dat_may2016.csv', low_memory=False)"
   ]
  },
  {
   "cell_type": "code",
   "execution_count": 11,
   "metadata": {
    "collapsed": false
   },
   "outputs": [
    {
     "name": "stdout",
     "output_type": "stream",
     "text": [
      "7175\n",
      "361\n"
     ]
    }
   ],
   "source": [
    "april_complaints = april_df.Complaint_Number.dropna().unique()\n",
    "may_complaints = may_df.Complaint_Number.dropna().unique()\n",
    "print(len(april_complaints))\n",
    "print(len(may_complaints))"
   ]
  },
  {
   "cell_type": "code",
   "execution_count": 12,
   "metadata": {
    "collapsed": false
   },
   "outputs": [],
   "source": [
    "non_intersect = [complaint for complaint in may_complaints\n",
    "                 if complaint not in april_complaints]"
   ]
  },
  {
   "cell_type": "code",
   "execution_count": 13,
   "metadata": {
    "collapsed": false
   },
   "outputs": [
    {
     "data": {
      "text/plain": [
       "200"
      ]
     },
     "execution_count": 13,
     "metadata": {},
     "output_type": "execute_result"
    }
   ],
   "source": [
    "len(non_intersect)"
   ]
  },
  {
   "cell_type": "markdown",
   "metadata": {},
   "source": [
    "# Cleaning / Combining April and May"
   ]
  },
  {
   "cell_type": "code",
   "execution_count": 14,
   "metadata": {
    "collapsed": true
   },
   "outputs": [],
   "source": [
    "clean_april = april_df.copy()\n",
    "clean_may = may_df.copy()"
   ]
  },
  {
   "cell_type": "code",
   "execution_count": 15,
   "metadata": {
    "collapsed": true
   },
   "outputs": [],
   "source": [
    "april_cols = [col.lower().replace(' ', '_') for col in clean_april.columns]\n",
    "may_cols = [col.lower().replace(' ', '_') for col in clean_may.columns]\n",
    "clean_april.columns = april_cols\n",
    "clean_may.columns = may_cols"
   ]
  },
  {
   "cell_type": "markdown",
   "metadata": {},
   "source": [
    "In April, several of there are multiple fname columns due to misspellings of the column headers. These can be combined, as there are no cases where one column has conflicting information with the other column"
   ]
  },
  {
   "cell_type": "code",
   "execution_count": 16,
   "metadata": {
    "collapsed": false
   },
   "outputs": [
    {
     "name": "stdout",
     "output_type": "stream",
     "text": [
      "0\n",
      "0\n",
      "0\n"
     ]
    }
   ],
   "source": [
    "# confirming there are no conflicting values\n",
    "sub_df = clean_april[['accused_officer_fname', 'accusedofficer_fname']]\n",
    "sub_df = sub_df[(~sub_df.accused_officer_fname.isnull()) & \n",
    "                 (~sub_df.accusedofficer_fname.isnull())]\n",
    "print(sum(sub_df.accused_officer_fname != sub_df.accusedofficer_fname))\n",
    "\n",
    "sub_df = clean_april[['accused_officer_fname', 'accsued_officer_fname']]\n",
    "sub_df = sub_df[(~sub_df.accused_officer_fname.isnull()) & \n",
    "                (~sub_df.accsued_officer_fname.isnull())]\n",
    "print(sum(sub_df.accused_officer_fname != sub_df.accsued_officer_fname))\n",
    "\n",
    "sub_df = clean_april[['accsued_officer_fname', 'accusedofficer_fname']]\n",
    "sub_df = sub_df[(~sub_df.accsued_officer_fname.isnull()) & \n",
    "                (~sub_df.accusedofficer_fname.isnull())]\n",
    "print(sum(sub_df.accsued_officer_fname != sub_df.accusedofficer_fname))"
   ]
  },
  {
   "cell_type": "code",
   "execution_count": 17,
   "metadata": {
    "collapsed": true
   },
   "outputs": [],
   "source": [
    "clean_april.accused_officer_fname.fillna(clean_april.accsued_officer_fname, inplace=True)\n",
    "clean_april.accused_officer_fname.fillna(clean_april.accusedofficer_fname, inplace=True)\n",
    "clean_april.drop(['accsued_officer_fname', 'accusedofficer_fname'], axis=1, inplace=True)"
   ]
  },
  {
   "cell_type": "code",
   "execution_count": 18,
   "metadata": {
    "collapsed": false
   },
   "outputs": [
    {
     "name": "stdout",
     "output_type": "stream",
     "text": [
      "accused_officer_fname                   accused_assignment\n",
      "accused_officer_lname                   accused_fname\n",
      "accused_star                            accused_lname\n",
      "accused_unit                            accused_star_no\n",
      "discipline_code                         closedatipra_datetime\n",
      "involved_officer_age                    complaint_date\n",
      "involved_officer_detail                 converted_rec_i\n",
      "involved_officer_fname                  cr_required\n",
      "involved_officer_lname                  fileyr\n",
      "involved_officer_position               finding_id\n",
      "involved_officer_race                   iad_ops\n",
      "involved_officer_sex                    invovled_party_age\n",
      "involved_officer_unit                   invovled_party_assignment\n",
      "ipra_closed_date                        invovled_party_description\n",
      "notification_date                       invovled_party_detail\n",
      "recommended_number_of_days              invovled_party_fname\n",
      "NA                                      invovled_party_lname\n",
      "NA                                      invovled_party_position\n",
      "NA                                      invovled_party_race\n",
      "NA                                      invovled_party_sex\n",
      "NA                                      invovled_party_type\n",
      "NA                                      ipra_assign_date_time\n",
      "NA                                      ipra_investigate_begin_date\n",
      "NA                                      ipra_investigate_end_date\n",
      "NA                                      ipra_investigator_type\n",
      "NA                                      no_of_days\n",
      "NA                                      penalty_code\n",
      "NA                                      penalty_status\n",
      "NA                                      police_shooting\n",
      "NA                                      police_shooting_no\n",
      "NA                                      report_status\n",
      "NA                                      source\n"
     ]
    }
   ],
   "source": [
    "april_cols = clean_april.columns.tolist()\n",
    "april_diff = sorted([col for col in april_cols if col not in may_cols])\n",
    "may_diff = sorted([col for col in may_cols if col not in april_cols])\n",
    "\n",
    "for i in range(len(may_diff)):\n",
    "    try: \n",
    "        print('{:40}{}'.format(april_diff[i], may_diff[i]))\n",
    "    except IndexError:\n",
    "        print('{:40}{}'.format('NA', may_diff[i]))"
   ]
  },
  {
   "cell_type": "code",
   "execution_count": 19,
   "metadata": {
    "collapsed": true
   },
   "outputs": [],
   "source": [
    "clean_may.columns = [col.replace('party', 'officer').replace('invovled', 'involved')\n",
    "                     for col in clean_may.columns]\n",
    "may_cols = clean_may.columns"
   ]
  },
  {
   "cell_type": "code",
   "execution_count": 20,
   "metadata": {
    "collapsed": false
   },
   "outputs": [
    {
     "name": "stdout",
     "output_type": "stream",
     "text": [
      "accused_officer_fname                   accused_assignment\n",
      "accused_officer_lname                   accused_fname\n",
      "accused_star                            accused_lname\n",
      "accused_unit                            accused_star_no\n",
      "discipline_code                         closedatipra_datetime\n",
      "involved_officer_unit                   complaint_date\n",
      "ipra_closed_date                        converted_rec_i\n",
      "notification_date                       cr_required\n",
      "recommended_number_of_days              fileyr\n",
      "NA                                      finding_id\n",
      "NA                                      iad_ops\n",
      "NA                                      involved_officer_assignment\n",
      "NA                                      involved_officer_description\n",
      "NA                                      involved_officer_type\n",
      "NA                                      ipra_assign_date_time\n",
      "NA                                      ipra_investigate_begin_date\n",
      "NA                                      ipra_investigate_end_date\n",
      "NA                                      ipra_investigator_type\n",
      "NA                                      no_of_days\n",
      "NA                                      penalty_code\n",
      "NA                                      penalty_status\n",
      "NA                                      police_shooting\n",
      "NA                                      police_shooting_no\n",
      "NA                                      report_status\n",
      "NA                                      source\n"
     ]
    }
   ],
   "source": [
    "april_diff = sorted([col for col in april_cols if col not in may_cols])\n",
    "may_diff = sorted([col for col in may_cols if col not in april_cols])\n",
    "\n",
    "for i in range(len(may_diff)):\n",
    "    try: \n",
    "        print('{:40}{}'.format(april_diff[i], may_diff[i]))\n",
    "    except IndexError:\n",
    "        print('{:40}{}'.format('NA', may_diff[i]))"
   ]
  },
  {
   "cell_type": "code",
   "execution_count": 21,
   "metadata": {
    "collapsed": false
   },
   "outputs": [
    {
     "name": "stdout",
     "output_type": "stream",
     "text": [
      "[nan 'VIOLATION NOTED' 'REPRIMAND' 'SUSPENSION' 'SEPARATION']\n",
      "[nan 'SEPARATION' 'SUSPENSION' 'VIOLATION NOTED' 'REPRIMAND']\n"
     ]
    }
   ],
   "source": [
    "# these two columns seems to be the same as well\n",
    "print(clean_may.penalty_code.unique())\n",
    "print(clean_april.discipline_code.unique())"
   ]
  },
  {
   "cell_type": "code",
   "execution_count": 22,
   "metadata": {
    "collapsed": false
   },
   "outputs": [
    {
     "name": "stdout",
     "output_type": "stream",
     "text": [
      "[2.0, 3.0, 4.0, 5.0, 6.0, 7.0, 8.0, 9.0, 10.0, 11.0, 12.0, 13.0, 14.0, 15.0, 16.0, 17.0, 18.0, 20.0, 21.0, 23.0, 45.0, 50.0, 57.0, 116.0, 119.0, 120.0, 121.0, 123.0, 124.0, 126.0, 127.0, 140.0, nan, 1.0, 19.0, 22.0, 24.0, 25.0, 44.0, 113.0, 141.0, 142.0, 151.0, 152.0, 153.0, 180.0, 188.0, 189.0, 191.0, 193.0, 211.0, 212.0, 213.0, 214.0, 215.0, 216.0, 253.0, 277.0, 311.0, 312.0, 313.0, 314.0, 315.0, 341.0, 353.0, 384.0, 393.0, 477.0, 601.0, 603.0, 606.0, 610.0, 620.0, 630.0, 640.0, 701.0, 704.0]\n",
      "[nan, 1.0, 2.0, 3.0, 4.0, 5.0, 6.0, 7.0, 8.0, 9.0, 10.0, 11.0, 12.0, 13.0, 14.0, 15.0, 16.0, 17.0, 18.0, 19.0, 20.0, 22.0, 24.0, 25.0, 26.0, 44.0, 45.0, 50.0, 51.0, 59.0, 79.0, 86.0, 113.0, 116.0, 119.0, 121.0, 123.0, 124.0, 126.0, 127.0, 135.0, 140.0, 141.0, 142.0, 145.0, 153.0, 163.0, 166.0, 171.0, 177.0, 180.0, 189.0, 191.0, 192.0, 193.0, 196.0, 211.0, 212.0, 213.0, 214.0, 215.0, 261.0, 277.0, 311.0, 312.0, 313.0, 314.0, 315.0, 341.0, 353.0, 377.0, 384.0, 393.0, 441.0, 477.0, 606.0, 608.0, 610.0, 620.0, 630.0, 701.0, 704.0]\n"
     ]
    }
   ],
   "source": [
    "# these two columns seems to be the same as well\n",
    "print(sorted(clean_may.involved_officer_assignment.unique()))\n",
    "print(sorted(clean_april.involved_officer_unit.unique()))"
   ]
  },
  {
   "cell_type": "code",
   "execution_count": 23,
   "metadata": {
    "collapsed": false
   },
   "outputs": [
    {
     "name": "stdout",
     "output_type": "stream",
     "text": [
      "[nan, 1.0, 2.0, 4.0, 6.0, 7.0, 8.0, 10.0, 11.0, 18.0, 171.0, 177.0, 189.0, 312.0, 610.0, 620.0]\n",
      "[nan, 1.0, 2.0, 3.0, 4.0, 5.0, 6.0, 7.0, 8.0, 9.0, 10.0, 11.0, 12.0, 13.0, 14.0, 15.0, 16.0, 17.0, 18.0, 19.0, 20.0, 21.0, 22.0, 24.0, 25.0, 26.0, 44.0, 45.0, 50.0, 51.0, 55.0, 59.0, 111.0, 121.0, 123.0, 124.0, 126.0, 141.0, 145.0, 163.0, 166.0, 167.0, 171.0, 177.0, 180.0, 184.0, 189.0, 191.0, 192.0, 193.0, 196.0, 214.0, 277.0, 311.0, 312.0, 313.0, 314.0, 315.0, 341.0, 353.0, 376.0, 377.0, 384.0, 393.0, 442.0, 542.0, 603.0, 606.0, 608.0, 610.0, 620.0, 630.0, 640.0, 650.0, 701.0, 704.0]\n"
     ]
    }
   ],
   "source": [
    "# these two columns seems to be the same as well\n",
    "print(sorted(clean_may.accused_assignment.unique()))\n",
    "print(sorted(clean_april.accused_unit.unique()))"
   ]
  },
  {
   "cell_type": "code",
   "execution_count": 24,
   "metadata": {
    "collapsed": true
   },
   "outputs": [],
   "source": [
    "replacements = {'accused_fname': 'accused_officer_fname',\n",
    "                'accused_lname': 'accused_officer_lname',\n",
    "                'accused_star_no': 'accused_star',\n",
    "                'no_of_days': 'recommended_number_of_days', \n",
    "                'closedatipra_datetime': 'ipra_closed_date',\n",
    "                'penalty_code': 'discipline_code', \n",
    "                'involved_officer_assignment': 'involved_officer_unit',\n",
    "                'accused_assignment': 'accused_unit'}\n",
    "\n",
    "clean_may.rename(columns = replacements, inplace=True)"
   ]
  },
  {
   "cell_type": "code",
   "execution_count": 25,
   "metadata": {
    "collapsed": false
   },
   "outputs": [
    {
     "name": "stdout",
     "output_type": "stream",
     "text": [
      "notification_date                       complaint_date\n",
      "NA                                      converted_rec_i\n",
      "NA                                      cr_required\n",
      "NA                                      fileyr\n",
      "NA                                      finding_id\n",
      "NA                                      iad_ops\n",
      "NA                                      involved_officer_description\n",
      "NA                                      involved_officer_type\n",
      "NA                                      ipra_assign_date_time\n",
      "NA                                      ipra_investigate_begin_date\n",
      "NA                                      ipra_investigate_end_date\n",
      "NA                                      ipra_investigator_type\n",
      "NA                                      penalty_status\n",
      "NA                                      police_shooting\n",
      "NA                                      police_shooting_no\n",
      "NA                                      report_status\n",
      "NA                                      source\n"
     ]
    }
   ],
   "source": [
    "may_cols = clean_may.columns.tolist()\n",
    "april_diff = sorted([col for col in april_cols if col not in may_cols])\n",
    "may_diff = sorted([col for col in may_cols if col not in april_cols])\n",
    "\n",
    "for i in range(len(may_diff)):\n",
    "    try: \n",
    "        print('{:40}{}'.format(april_diff[i], may_diff[i]))\n",
    "    except IndexError:\n",
    "        print('{:40}{}'.format('NA', may_diff[i]))"
   ]
  },
  {
   "cell_type": "markdown",
   "metadata": {},
   "source": [
    "#### At this point it's unclear to me what column in the May dataset the \"notification_date\" column in the April dataset might correspond to\n",
    "\n",
    "#### As far as I can tell, \"accused_unit\" and \"involved_officer_unit\" are not the same"
   ]
  },
  {
   "cell_type": "code",
   "execution_count": 26,
   "metadata": {
    "collapsed": false
   },
   "outputs": [
    {
     "name": "stdout",
     "output_type": "stream",
     "text": [
      "9141\n",
      "1527\n"
     ]
    }
   ],
   "source": [
    "# there are cases where the accused_unit and involved_officer_unit are both not nan, \n",
    "# but are also not equal\n",
    "sub_df = clean_april[['accused_unit', 'involved_officer_unit']]\n",
    "sub_df = sub_df[(~sub_df.accused_unit.isnull()) & \n",
    "                 (~sub_df.involved_officer_unit.isnull())]\n",
    "print(sum(sub_df.accused_unit != sub_df.involved_officer_unit))\n",
    "\n",
    "sub_df = clean_may[['accused_unit', 'involved_officer_unit']]\n",
    "sub_df2 = sub_df[(~sub_df.accused_unit.isnull()) & \n",
    "                 (~sub_df.involved_officer_unit.isnull())]\n",
    "print(sum(sub_df2.accused_unit != sub_df2.involved_officer_unit))"
   ]
  },
  {
   "cell_type": "code",
   "execution_count": 27,
   "metadata": {
    "collapsed": false
   },
   "outputs": [],
   "source": [
    "combined_df = pd.concat([clean_april, clean_may], ignore_index=True)"
   ]
  },
  {
   "cell_type": "markdown",
   "metadata": {},
   "source": [
    "# Subset from 2016-ipra website"
   ]
  },
  {
   "cell_type": "code",
   "execution_count": 28,
   "metadata": {
    "collapsed": true
   },
   "outputs": [],
   "source": [
    "complaint_ix = pd.read_excel('/home/dan/Downloads/2016-06-03-complaint-index.xlsx')\n",
    "doc_ix = pd.read_excel('/home/dan/Downloads/2016-06-03-document-index.xlsx')                \n",
    "\n",
    "complaint_ix.rename(columns={'COMPLAINT_NUMBER': 'complaint_number'}, inplace=True)\n",
    "doc_ix.rename(columns={'COMPLAINT_NUMBER': 'complaint_number'}, inplace=True)"
   ]
  },
  {
   "cell_type": "code",
   "execution_count": 29,
   "metadata": {
    "collapsed": true
   },
   "outputs": [],
   "source": [
    "ipra_df = pd.merge(combined_df, complaint_ix, on='complaint_number', how='right')\n",
    "ipra_df = pd.merge(ipra_df, doc_ix, on='complaint_number', how='left')"
   ]
  },
  {
   "cell_type": "code",
   "execution_count": 32,
   "metadata": {
    "collapsed": false
   },
   "outputs": [
    {
     "name": "stdout",
     "output_type": "stream",
     "text": [
      "102\n"
     ]
    }
   ],
   "source": [
    "print(len(ipra_df.complaint_number.unique()))"
   ]
  },
  {
   "cell_type": "markdown",
   "metadata": {},
   "source": [
    "### Ultimately we're going to want to look up CRIDs and get all the information for that incident (right?)"
   ]
  },
  {
   "cell_type": "code",
   "execution_count": 36,
   "metadata": {
    "collapsed": false
   },
   "outputs": [],
   "source": [
    "cols = [col for col in ipra_df.columns if col != 'complaint_number']\n",
    "group = ipra_df.groupby('complaint_number')\n",
    "df_list = [group[col].unique().reset_index() for col in cols]"
   ]
  },
  {
   "cell_type": "code",
   "execution_count": 37,
   "metadata": {
    "collapsed": false
   },
   "outputs": [],
   "source": [
    "summary_df = df_list[0]\n",
    "for col_df in df_list:\n",
    "    summary_df = pd.merge(summary_df, col_df, on='complaint_number')"
   ]
  },
  {
   "cell_type": "code",
   "execution_count": 40,
   "metadata": {
    "collapsed": false
   },
   "outputs": [
    {
     "data": {
      "text/plain": [
       "complaint_number                                                      1.04253e+06\n",
       "accused_appointment_date_x                                                  [nan]\n",
       "accused_appointment_date_y                                                  [nan]\n",
       "accused_detail                                                              [nan]\n",
       "accused_officer_fname                                                       [nan]\n",
       "accused_officer_lname                                                       [nan]\n",
       "accused_position                                                            [nan]\n",
       "accused_star                                                                [nan]\n",
       "accused_unit                                                                [nan]\n",
       "address                                                                  [1120.0]\n",
       "beat                                                                      [724.0]\n",
       "complaint_date                                                         [1/7/2011]\n",
       "converted_rec_i                                                              [No]\n",
       "cr_required                                                                  [No]\n",
       "current_category                          [FIREARM DISCHARGE WITH HITS / ON DUTY]\n",
       "current_category_code                                                       [18A]\n",
       "current_status                                            [PENDING INVESTIGATION]\n",
       "discipline_code                                                             [nan]\n",
       "fileyr                                                                   [2011.0]\n",
       "finding_code                                                                [nan]\n",
       "finding_id                                                                  [nan]\n",
       "iad_ops                                                                       [O]\n",
       "incident_time_end                                 [2011-01-07T00:00:00.000000000]\n",
       "incident_time_start                               [2011-01-07T00:00:00.000000000]\n",
       "initial_category                          [FIREARM DISCHARGE WITH HITS / ON DUTY]\n",
       "initial_category_code                                                       [18A]\n",
       "involved_officer_age                                      [nan, 27.0, 30.0, 29.0]\n",
       "involved_officer_description                                                [nan]\n",
       "involved_officer_detail                                              [216.0, nan]\n",
       "involved_officer_fname                  [JAMES, RAOUL, GILDARDO, DARIUS, MATTHEW]\n",
       "                                                      ...                        \n",
       "ipra_investigator_lastname                                  [BOWENS, DAVIS, HITT]\n",
       "ipra_investigator_type                                                     [P, S]\n",
       "location_code                                                            [STREET]\n",
       "notification_date                                                           [NaT]\n",
       "penalty_status                                                              [nan]\n",
       "police_shooting                                                             [Yes]\n",
       "police_shooting_no                                                        [11-04]\n",
       "recommended_number_of_days                                                  [nan]\n",
       "report_status                                                           [Pending]\n",
       "source                                                                 [2016-MAY]\n",
       "street                                                             [MARQUETTE RD]\n",
       "INCIDENT_TYPE                                                 [Firearm Discharge]\n",
       "NOTIFICATION_DATE                                 [2011-01-07T00:00:00.000000000]\n",
       "INCIDENT_TIME_START                               [2011-01-07T01:33:00.000000000]\n",
       "SUBJECT_1                                                          [Darius Pinex]\n",
       "SUBJECT_2                                                               [novalue]\n",
       "SUBJECT_3                                                               [novalue]\n",
       "SUBJECT_4                                                               [novalue]\n",
       "DOCS_WITHHELD_NOTES                                                     [novalue]\n",
       "HIPAA_WITHHELD                                                            [False]\n",
       "JUVENILE_WITHHELD                                                         [False]\n",
       "VIDEO_COUNT                                                                   [0]\n",
       "AUDIO_COUNT                                                                   [5]\n",
       "DOCUMENT_COUNT                                                                [5]\n",
       "MEDIA_FILE_TYPE                                                        [DOCUMENT]\n",
       "IPRA_PORTAL_LABEL               [Officer's Battery Report (Masqueda), Officer'...\n",
       "IPRA_URL                        [http://2z8fvv370p61pvio021qkw2x.wpengine.netd...\n",
       "FILE_PROBLEMS                                                           [novalue]\n",
       "PUBLIC_FILE_NAME                [Log1042532-CHI-R-00000074 ﻿ ﻿, Log1042532-CHI...\n",
       "PUBLIC_URL                      [https://www.documentcloud.org/documents/28525...\n",
       "Name: 1, dtype: object"
      ]
     },
     "execution_count": 40,
     "metadata": {},
     "output_type": "execute_result"
    }
   ],
   "source": [
    "#e.g.\n",
    "summary_df.ix[1]"
   ]
  },
  {
   "cell_type": "code",
   "execution_count": 46,
   "metadata": {
    "collapsed": true
   },
   "outputs": [],
   "source": [
    "summary_df.to_csv('./summary_ipra.csv')"
   ]
  },
  {
   "cell_type": "markdown",
   "metadata": {},
   "source": [
    "# Exploring Data"
   ]
  },
  {
   "cell_type": "code",
   "execution_count": 41,
   "metadata": {
    "collapsed": false
   },
   "outputs": [],
   "source": [
    "combined_df['full_name'] = combined_df.accused_officer_fname + \\\n",
    "                           '_' + combined_df.accused_officer_lname"
   ]
  },
  {
   "cell_type": "code",
   "execution_count": 42,
   "metadata": {
    "collapsed": false
   },
   "outputs": [],
   "source": [
    "officer_complaints = combined_df.groupby('full_name').complaint_number.unique()\\\n",
    "                                .reset_index()"
   ]
  },
  {
   "cell_type": "code",
   "execution_count": 43,
   "metadata": {
    "collapsed": false
   },
   "outputs": [],
   "source": [
    "officer_complaints['complaint_counts'] = officer_complaints.complaint_number\\\n",
    "                                                           .apply(lambda x: len(x))"
   ]
  },
  {
   "cell_type": "code",
   "execution_count": 44,
   "metadata": {
    "collapsed": false
   },
   "outputs": [
    {
     "data": {
      "text/html": [
       "<div>\n",
       "<table border=\"1\" class=\"dataframe\">\n",
       "  <thead>\n",
       "    <tr style=\"text-align: right;\">\n",
       "      <th></th>\n",
       "      <th>full_name</th>\n",
       "      <th>complaint_number</th>\n",
       "      <th>complaint_counts</th>\n",
       "    </tr>\n",
       "  </thead>\n",
       "  <tbody>\n",
       "    <tr>\n",
       "      <th>165</th>\n",
       "      <td>ANTHONY_ROSEN</td>\n",
       "      <td>[1062800, 1066667, 1053667, 1053730, 1055766, ...</td>\n",
       "      <td>10</td>\n",
       "    </tr>\n",
       "    <tr>\n",
       "      <th>1255</th>\n",
       "      <td>JESSE_RODRIGUEZ</td>\n",
       "      <td>[1061127, 1064485, 1053629, 1056779, 1070318, ...</td>\n",
       "      <td>9</td>\n",
       "    </tr>\n",
       "    <tr>\n",
       "      <th>2481</th>\n",
       "      <td>ROBERT_LOBIANCO</td>\n",
       "      <td>[1063527, 1063935, 1066371, 1054352, 1054394, ...</td>\n",
       "      <td>8</td>\n",
       "    </tr>\n",
       "    <tr>\n",
       "      <th>2615</th>\n",
       "      <td>SAMUEL_TRUESDALE</td>\n",
       "      <td>[1061304, 1061698, 1062683, 1064009, 1054999, ...</td>\n",
       "      <td>8</td>\n",
       "    </tr>\n",
       "    <tr>\n",
       "      <th>2641</th>\n",
       "      <td>SEAN_CAMPBELL</td>\n",
       "      <td>[1061897, 1066578, 1054138, 1054349, 1055884, ...</td>\n",
       "      <td>8</td>\n",
       "    </tr>\n",
       "  </tbody>\n",
       "</table>\n",
       "</div>"
      ],
      "text/plain": [
       "             full_name                                   complaint_number  \\\n",
       "165      ANTHONY_ROSEN  [1062800, 1066667, 1053667, 1053730, 1055766, ...   \n",
       "1255   JESSE_RODRIGUEZ  [1061127, 1064485, 1053629, 1056779, 1070318, ...   \n",
       "2481   ROBERT_LOBIANCO  [1063527, 1063935, 1066371, 1054352, 1054394, ...   \n",
       "2615  SAMUEL_TRUESDALE  [1061304, 1061698, 1062683, 1064009, 1054999, ...   \n",
       "2641     SEAN_CAMPBELL  [1061897, 1066578, 1054138, 1054349, 1055884, ...   \n",
       "\n",
       "      complaint_counts  \n",
       "165                 10  \n",
       "1255                 9  \n",
       "2481                 8  \n",
       "2615                 8  \n",
       "2641                 8  "
      ]
     },
     "execution_count": 44,
     "metadata": {},
     "output_type": "execute_result"
    }
   ],
   "source": [
    "officer_complaints.sort_values(by='complaint_counts', ascending=False).head()"
   ]
  },
  {
   "cell_type": "code",
   "execution_count": 214,
   "metadata": {
    "collapsed": true
   },
   "outputs": [],
   "source": [
    "officer_complaints.to_csv('./officer_complaints.csv')"
   ]
  },
  {
   "cell_type": "code",
   "execution_count": 45,
   "metadata": {
    "collapsed": false
   },
   "outputs": [
    {
     "data": {
      "text/html": [
       "<div>\n",
       "<table border=\"1\" class=\"dataframe\">\n",
       "  <thead>\n",
       "    <tr style=\"text-align: right;\">\n",
       "      <th></th>\n",
       "      <th>complaint_number</th>\n",
       "      <th>full_name</th>\n",
       "      <th>counts</th>\n",
       "    </tr>\n",
       "  </thead>\n",
       "  <tbody>\n",
       "    <tr>\n",
       "      <th>1085</th>\n",
       "      <td>1055981</td>\n",
       "      <td>[COLIN_MACNIFF, CORY_PETRACCO, DANIEL_FELICIAN...</td>\n",
       "      <td>22</td>\n",
       "    </tr>\n",
       "    <tr>\n",
       "      <th>4953</th>\n",
       "      <td>1070415</td>\n",
       "      <td>[nan, ABDULLAH_BEYAH, ADAM_PURICELLI, BRIAN_MC...</td>\n",
       "      <td>16</td>\n",
       "    </tr>\n",
       "    <tr>\n",
       "      <th>825</th>\n",
       "      <td>1055068</td>\n",
       "      <td>[ADOLFO_GARCIA, ANNE_ZAMZOW, BENJAMEN_FERN, CH...</td>\n",
       "      <td>14</td>\n",
       "    </tr>\n",
       "    <tr>\n",
       "      <th>4074</th>\n",
       "      <td>1067139</td>\n",
       "      <td>[nan, BRIAN_BLACKMAN, DANIEL_SAKO, DARRELL_DAV...</td>\n",
       "      <td>13</td>\n",
       "    </tr>\n",
       "    <tr>\n",
       "      <th>4058</th>\n",
       "      <td>1067084</td>\n",
       "      <td>[nan, ANTHONY_ROSEN, EDWARD_LEIGHTON, ERNEST_C...</td>\n",
       "      <td>12</td>\n",
       "    </tr>\n",
       "  </tbody>\n",
       "</table>\n",
       "</div>"
      ],
      "text/plain": [
       "      complaint_number                                          full_name  \\\n",
       "1085           1055981  [COLIN_MACNIFF, CORY_PETRACCO, DANIEL_FELICIAN...   \n",
       "4953           1070415  [nan, ABDULLAH_BEYAH, ADAM_PURICELLI, BRIAN_MC...   \n",
       "825            1055068  [ADOLFO_GARCIA, ANNE_ZAMZOW, BENJAMEN_FERN, CH...   \n",
       "4074           1067139  [nan, BRIAN_BLACKMAN, DANIEL_SAKO, DARRELL_DAV...   \n",
       "4058           1067084  [nan, ANTHONY_ROSEN, EDWARD_LEIGHTON, ERNEST_C...   \n",
       "\n",
       "      counts  \n",
       "1085      22  \n",
       "4953      16  \n",
       "825       14  \n",
       "4074      13  \n",
       "4058      12  "
      ]
     },
     "execution_count": 45,
     "metadata": {},
     "output_type": "execute_result"
    }
   ],
   "source": [
    "complaint_nums_off = combined_df.groupby('complaint_number').full_name.unique()\\\n",
    "                                .reset_index()\n",
    "complaint_nums_off['counts'] = complaint_nums_off.full_name\\\n",
    "                                                 .apply(lambda x: len(x))\n",
    "\n",
    "complaint_nums_off.sort_values(by='counts', ascending=False).head()"
   ]
  },
  {
   "cell_type": "code",
   "execution_count": null,
   "metadata": {
    "collapsed": true
   },
   "outputs": [],
   "source": []
  }
 ],
 "metadata": {
  "kernelspec": {
   "display_name": "Python 3",
   "language": "python",
   "name": "python3"
  },
  "language_info": {
   "codemirror_mode": {
    "name": "ipython",
    "version": 3
   },
   "file_extension": ".py",
   "mimetype": "text/x-python",
   "name": "python",
   "nbconvert_exporter": "python",
   "pygments_lexer": "ipython3",
   "version": "3.5.1"
  }
 },
 "nbformat": 4,
 "nbformat_minor": 0
}
