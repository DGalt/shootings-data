{
 "cells": [
  {
   "cell_type": "code",
   "execution_count": 1,
   "metadata": {
    "collapsed": true
   },
   "outputs": [],
   "source": [
    "import pandas as pd\n",
    "import numpy as np\n",
    "import requests"
   ]
  },
  {
   "cell_type": "code",
   "execution_count": 2,
   "metadata": {
    "collapsed": false
   },
   "outputs": [],
   "source": [
    "combined_df = pd.read_csv('./big_data_ignore/april_may_combined.csv', low_memory=False)"
   ]
  },
  {
   "cell_type": "code",
   "execution_count": 3,
   "metadata": {
    "collapsed": false
   },
   "outputs": [],
   "source": [
    "#clean_april = pd.read_csv('./big_data_ignore/clean_april.csv', low_memory=False)\n",
    "#clean_may = pd.read_csv('./big_data_ignore/clean_may.csv', low_memory=False)"
   ]
  },
  {
   "cell_type": "code",
   "execution_count": 4,
   "metadata": {
    "collapsed": false
   },
   "outputs": [],
   "source": [
    "complaint_ix = pd.read_csv('./big_data_ignore/2016-06-03-complaint-index.csv', encoding='latin-1')\n",
    "media_ix = pd.read_csv('./big_data_ignore/2016-06-03-all-media-files-index.csv', encoding='latin-1')                \n",
    "\n",
    "complaint_ix.rename(columns={'COMPLAINT_NUMBER': 'complaint_number'}, inplace=True)\n",
    "media_ix.rename(columns={'COMPLAINT_NUMBER': 'complaint_number'}, inplace=True)"
   ]
  },
  {
   "cell_type": "code",
   "execution_count": 5,
   "metadata": {
    "collapsed": true
   },
   "outputs": [],
   "source": [
    "full = pd.merge(combined_df, complaint_ix, on='complaint_number', how='right')\n",
    "full = pd.merge(full, media_ix, on='complaint_number', how='left')"
   ]
  },
  {
   "cell_type": "code",
   "execution_count": 6,
   "metadata": {
    "collapsed": false
   },
   "outputs": [],
   "source": [
    "full['accused_full_name'] = full.accused_officer_fname.astype('str') + '_' + \\\n",
    "                            full.accused_officer_lname.astype('str')\n",
    "full['involved_full_name'] = full.involved_officer_fname.astype('str') + '_' + \\\n",
    "                             full.involved_officer_lname.astype('str')\n",
    "full['ipra_investigator_full_name'] = full.ipra_investigator_firstname.astype('str') + '_' + \\\n",
    "                                      full.ipra_investigator_lastname.astype('str')"
   ]
  },
  {
   "cell_type": "code",
   "execution_count": 7,
   "metadata": {
    "collapsed": false
   },
   "outputs": [],
   "source": [
    "full = full.where(pd.notnull(full), None)\n",
    "full = full.applymap(lambda x: None if x=='nan_nan' or x=='novalue' else x)"
   ]
  },
  {
   "cell_type": "code",
   "execution_count": 10,
   "metadata": {
    "collapsed": false
   },
   "outputs": [],
   "source": [
    "cols = [col for col in full.columns if col != 'complaint_number']\n",
    "group = full.groupby('complaint_number')\n",
    "df_list = [group[col].unique().reset_index() for col in cols]"
   ]
  },
  {
   "cell_type": "code",
   "execution_count": 35,
   "metadata": {
    "collapsed": true
   },
   "outputs": [],
   "source": [
    "summary_df = df_list[0]\n",
    "for col_df in df_list[1:]:\n",
    "    summary_df = pd.merge(summary_df, col_df, on='complaint_number')"
   ]
  },
  {
   "cell_type": "code",
   "execution_count": 36,
   "metadata": {
    "collapsed": false
   },
   "outputs": [],
   "source": [
    "def get_names(nlist, fname=True):\n",
    "    if fname:\n",
    "        return [name.split('_')[0] for name in nlist if name is not None]\n",
    "    else:\n",
    "        return [name.split('_')[1] for name in nlist if name is not None]\n",
    "\n",
    "summary_df.accused_officer_fname = summary_df.accused_full_name.apply(get_names)\n",
    "summary_df.accused_officer_lname = summary_df.accused_full_name.apply(get_names, fname=False)\n",
    "summary_df.involved_officer_fname = summary_df.involved_full_name.apply(get_names)\n",
    "summary_df.involved_officer_lname = summary_df.involved_full_name.apply(get_names, fname=False)\n",
    "summary_df.ipra_investigator_firstname = summary_df.ipra_investigator_full_name.apply(get_names)\n",
    "summary_df.ipra_investigator_lastname = summary_df.ipra_investigator_full_name.apply(get_names, fname=False)"
   ]
  },
  {
   "cell_type": "code",
   "execution_count": 37,
   "metadata": {
    "collapsed": false
   },
   "outputs": [],
   "source": [
    "def clear_lists(x):\n",
    "    if len(x) == 1: \n",
    "        return x[0]\n",
    "    else:\n",
    "        no_none = [val for val in x \n",
    "                   if val is not None and str(val)!='nan' and str(val)!='NaN']\n",
    "        if len(no_none) == 0:\n",
    "            return None\n",
    "        elif len(no_none) == 1:\n",
    "            return no_none[0]\n",
    "        else:\n",
    "            return no_none\n",
    "        \n",
    "cols = summary_df.columns.tolist()[1:]       \n",
    "summary_df[cols] = summary_df[cols].applymap(clear_lists)"
   ]
  },
  {
   "cell_type": "code",
   "execution_count": 46,
   "metadata": {
    "collapsed": false
   },
   "outputs": [],
   "source": [
    "summary_df.to_csv('./summary_ipra.csv', index=False)"
   ]
  },
  {
   "cell_type": "code",
   "execution_count": null,
   "metadata": {
    "collapsed": true
   },
   "outputs": [],
   "source": []
  }
 ],
 "metadata": {
  "kernelspec": {
   "display_name": "Python 3",
   "language": "python",
   "name": "python3"
  },
  "language_info": {
   "codemirror_mode": {
    "name": "ipython",
    "version": 3
   },
   "file_extension": ".py",
   "mimetype": "text/x-python",
   "name": "python",
   "nbconvert_exporter": "python",
   "pygments_lexer": "ipython3",
   "version": "3.5.1"
  }
 },
 "nbformat": 4,
 "nbformat_minor": 0
}
