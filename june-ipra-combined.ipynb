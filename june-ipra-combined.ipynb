{
 "cells": [
  {
   "cell_type": "code",
   "execution_count": 1,
   "metadata": {
    "collapsed": true
   },
   "outputs": [],
   "source": [
    "import pandas as pd\n",
    "import numpy as np"
   ]
  },
  {
   "cell_type": "code",
   "execution_count": 8,
   "metadata": {
    "collapsed": false
   },
   "outputs": [],
   "source": [
    "combined_df = pd.read_csv('./big_data_ignore/april_may_combined.csv', low_memory=False)"
   ]
  },
  {
   "cell_type": "code",
   "execution_count": 3,
   "metadata": {
    "collapsed": false
   },
   "outputs": [],
   "source": [
    "clean_april = pd.read_csv('./big_data_ignore/clean_april.csv', low_memory=False)\n",
    "clean_may = pd.read_csv('./big_data_ignore/clean_may.csv', low_memory=False)"
   ]
  },
  {
   "cell_type": "code",
   "execution_count": 4,
   "metadata": {
    "collapsed": false
   },
   "outputs": [],
   "source": [
    "complaint_ix = pd.read_csv('./big_data_ignore/2016-06-03-complaint-index.csv', encoding='latin-1')\n",
    "media_ix = pd.read_csv('./big_data_ignore/2016-06-03-all-media-files-index.csv', encoding='latin-1')                \n",
    "\n",
    "complaint_ix.rename(columns={'COMPLAINT_NUMBER': 'complaint_number'}, inplace=True)\n",
    "media_ix.rename(columns={'COMPLAINT_NUMBER': 'complaint_number'}, inplace=True)"
   ]
  },
  {
   "cell_type": "code",
   "execution_count": 16,
   "metadata": {
    "collapsed": false
   },
   "outputs": [
    {
     "data": {
      "text/plain": [
       "4"
      ]
     },
     "execution_count": 16,
     "metadata": {},
     "output_type": "execute_result"
    }
   ],
   "source": [
    "april_nums = clean_april.complaint_number.dropna().unique().tolist()\n",
    "may_nums = clean_may.complaint_number.dropna().unique().tolist()\n",
    "cix_nums = complaint_ix.complaint_number.dropna().unique().tolist()\n",
    "mix_nums = media_ix.complaint_number.dropna().unique().tolist()\n",
    "combined_nums = combined_df.complaint_number.dropna().unique().tolist()\n",
    "\n",
    "len([num for num in cix_nums if num not in combined_nums])"
   ]
  },
  {
   "cell_type": "code",
   "execution_count": 4,
   "metadata": {
    "collapsed": false
   },
   "outputs": [
    {
     "name": "stdout",
     "output_type": "stream",
     "text": [
      "<class 'pandas.core.frame.DataFrame'>\n",
      "RangeIndex: 102 entries, 0 to 101\n",
      "Data columns (total 14 columns):\n",
      "complaint_number       102 non-null int64\n",
      "INCIDENT_TYPE          102 non-null object\n",
      "NOTIFICATION_DATE      102 non-null object\n",
      "INCIDENT_TIME_START    102 non-null object\n",
      "SUBJECT_1              102 non-null object\n",
      "SUBJECT_2              102 non-null object\n",
      "SUBJECT_3              102 non-null object\n",
      "SUBJECT_4              102 non-null object\n",
      "DOCS_WITHHELD_NOTES    102 non-null object\n",
      "HIPAA_WITHHELD         102 non-null bool\n",
      "JUVENILE_WITHHELD      102 non-null bool\n",
      "VIDEO_COUNT            102 non-null int64\n",
      "AUDIO_COUNT            102 non-null int64\n",
      "DOCUMENT_COUNT         102 non-null int64\n",
      "dtypes: bool(2), int64(4), object(8)\n",
      "memory usage: 9.8+ KB\n"
     ]
    }
   ],
   "source": [
    "complaint_ix.info()"
   ]
  },
  {
   "cell_type": "code",
   "execution_count": 5,
   "metadata": {
    "collapsed": false
   },
   "outputs": [
    {
     "name": "stdout",
     "output_type": "stream",
     "text": [
      "<class 'pandas.core.frame.DataFrame'>\n",
      "RangeIndex: 1553 entries, 0 to 1552\n",
      "Data columns (total 7 columns):\n",
      "complaint_number     1553 non-null int64\n",
      "MEDIA_FILE_TYPE      1553 non-null object\n",
      "IPRA_PORTAL_LABEL    1553 non-null object\n",
      "IPRA_URL             1553 non-null object\n",
      "FILE_PROBLEMS        1553 non-null object\n",
      "PUBLIC_FILE_NAME     1553 non-null object\n",
      "PUBLIC_URL           1553 non-null object\n",
      "dtypes: int64(1), object(6)\n",
      "memory usage: 85.0+ KB\n"
     ]
    }
   ],
   "source": [
    "media_ix.info()"
   ]
  },
  {
   "cell_type": "code",
   "execution_count": 6,
   "metadata": {
    "collapsed": false
   },
   "outputs": [
    {
     "data": {
      "text/plain": [
       "102"
      ]
     },
     "execution_count": 6,
     "metadata": {},
     "output_type": "execute_result"
    }
   ],
   "source": [
    "len(complaint_ix.complaint_number.unique())"
   ]
  },
  {
   "cell_type": "code",
   "execution_count": 7,
   "metadata": {
    "collapsed": false
   },
   "outputs": [
    {
     "data": {
      "text/plain": [
       "90"
      ]
     },
     "execution_count": 7,
     "metadata": {},
     "output_type": "execute_result"
    }
   ],
   "source": [
    "len(media_ix.complaint_number.unique())"
   ]
  },
  {
   "cell_type": "code",
   "execution_count": 8,
   "metadata": {
    "collapsed": false
   },
   "outputs": [
    {
     "name": "stdout",
     "output_type": "stream",
     "text": [
      "<class 'pandas.core.frame.DataFrame'>\n",
      "RangeIndex: 161256 entries, 0 to 161255\n",
      "Data columns (total 51 columns):\n",
      "accused_appointment_date        95782 non-null object\n",
      "accused_detail                  12364 non-null float64\n",
      "accused_officer_fname           95782 non-null object\n",
      "accused_officer_lname           95782 non-null object\n",
      "accused_position                95770 non-null object\n",
      "accused_star                    94122 non-null float64\n",
      "accused_unit                    95770 non-null float64\n",
      "address                         160851 non-null float64\n",
      "beat                            161224 non-null float64\n",
      "complaint_date                  24501 non-null object\n",
      "complaint_number                161256 non-null int64\n",
      "converted_rec_i                 24501 non-null object\n",
      "cr_required                     24501 non-null object\n",
      "current_category                161215 non-null object\n",
      "current_category_code           161215 non-null object\n",
      "current_status                  161256 non-null object\n",
      "discipline_code                 24023 non-null object\n",
      "fileyr                          24501 non-null float64\n",
      "finding_code                    126281 non-null object\n",
      "finding_id                      8521 non-null float64\n",
      "iad_ops                         24501 non-null object\n",
      "incident_time_end               160629 non-null object\n",
      "incident_time_start             160629 non-null object\n",
      "initial_category                153111 non-null object\n",
      "initial_category_code           153111 non-null object\n",
      "involved_officer_age            87660 non-null float64\n",
      "involved_officer_description    5561 non-null object\n",
      "involved_officer_detail         6549 non-null float64\n",
      "involved_officer_fname          158084 non-null object\n",
      "involved_officer_lname          158084 non-null object\n",
      "involved_officer_position       146962 non-null object\n",
      "involved_officer_race           154282 non-null object\n",
      "involved_officer_sex            158066 non-null object\n",
      "involved_officer_type           24495 non-null object\n",
      "involved_officer_unit           53550 non-null float64\n",
      "ipra_assign_date_time           24478 non-null object\n",
      "ipra_closed_date                133823 non-null object\n",
      "ipra_investigate_begin_date     0 non-null float64\n",
      "ipra_investigate_end_date       22400 non-null object\n",
      "ipra_investigator_firstname     153050 non-null object\n",
      "ipra_investigator_lastname      153050 non-null object\n",
      "ipra_investigator_type          24478 non-null object\n",
      "location_code                   159524 non-null object\n",
      "notification_date               136755 non-null object\n",
      "penalty_status                  7416 non-null object\n",
      "police_shooting                 24501 non-null object\n",
      "police_shooting_no              24501 non-null object\n",
      "recommended_number_of_days      16302 non-null float64\n",
      "report_status                   24469 non-null object\n",
      "source                          24501 non-null object\n",
      "street                          160851 non-null object\n",
      "dtypes: float64(12), int64(1), object(38)\n",
      "memory usage: 62.7+ MB\n"
     ]
    }
   ],
   "source": [
    "combined_df.info()"
   ]
  },
  {
   "cell_type": "code",
   "execution_count": 17,
   "metadata": {
    "collapsed": true
   },
   "outputs": [],
   "source": [
    "full = pd.merge(combined_df, complaint_ix, on='complaint_number', how='right')\n",
    "full = pd.merge(full, media_ix, on='complaint_number', how='left')"
   ]
  },
  {
   "cell_type": "code",
   "execution_count": 18,
   "metadata": {
    "collapsed": false
   },
   "outputs": [
    {
     "name": "stdout",
     "output_type": "stream",
     "text": [
      "<class 'pandas.core.frame.DataFrame'>\n",
      "Int64Index: 592968 entries, 0 to 592967\n",
      "Data columns (total 70 columns):\n",
      "accused_appointment_date        523158 non-null object\n",
      "accused_detail                  1810 non-null float64\n",
      "accused_officer_fname           523158 non-null object\n",
      "accused_officer_lname           523158 non-null object\n",
      "accused_position                523158 non-null object\n",
      "accused_star                    518786 non-null float64\n",
      "accused_unit                    523158 non-null float64\n",
      "address                         592943 non-null float64\n",
      "beat                            592943 non-null float64\n",
      "complaint_date                  409365 non-null object\n",
      "complaint_number                592968 non-null float64\n",
      "converted_rec_i                 409365 non-null object\n",
      "cr_required                     409365 non-null object\n",
      "current_category                592943 non-null object\n",
      "current_category_code           592943 non-null object\n",
      "current_status                  592943 non-null object\n",
      "discipline_code                 333720 non-null object\n",
      "fileyr                          409365 non-null float64\n",
      "finding_code                    497764 non-null object\n",
      "finding_id                      360113 non-null float64\n",
      "iad_ops                         409365 non-null object\n",
      "incident_time_end               592943 non-null object\n",
      "incident_time_start             592943 non-null object\n",
      "initial_category                118957 non-null object\n",
      "initial_category_code           118957 non-null object\n",
      "involved_officer_age            140435 non-null float64\n",
      "involved_officer_description    117632 non-null object\n",
      "involved_officer_detail         11008 non-null float64\n",
      "involved_officer_fname          592919 non-null object\n",
      "involved_officer_lname          592919 non-null object\n",
      "involved_officer_position       589959 non-null object\n",
      "involved_officer_race           590672 non-null object\n",
      "involved_officer_sex            590763 non-null object\n",
      "involved_officer_type           409365 non-null object\n",
      "involved_officer_unit           443528 non-null float64\n",
      "ipra_assign_date_time           409365 non-null object\n",
      "ipra_closed_date                0 non-null object\n",
      "ipra_investigate_begin_date     0 non-null float64\n",
      "ipra_investigate_end_date       389125 non-null object\n",
      "ipra_investigator_firstname     592710 non-null object\n",
      "ipra_investigator_lastname      592710 non-null object\n",
      "ipra_investigator_type          409365 non-null object\n",
      "location_code                   592943 non-null object\n",
      "notification_date               183578 non-null object\n",
      "penalty_status                  333720 non-null object\n",
      "police_shooting                 409365 non-null object\n",
      "police_shooting_no              409365 non-null object\n",
      "recommended_number_of_days      333720 non-null float64\n",
      "report_status                   409365 non-null object\n",
      "source                          409365 non-null object\n",
      "street                          592943 non-null object\n",
      "INCIDENT_TYPE                   592968 non-null object\n",
      "NOTIFICATION_DATE               592968 non-null object\n",
      "INCIDENT_TIME_START             592968 non-null object\n",
      "SUBJECT_1                       592968 non-null object\n",
      "SUBJECT_2                       592968 non-null object\n",
      "SUBJECT_3                       592968 non-null object\n",
      "SUBJECT_4                       592968 non-null object\n",
      "DOCS_WITHHELD_NOTES             592968 non-null object\n",
      "HIPAA_WITHHELD                  592968 non-null bool\n",
      "JUVENILE_WITHHELD               592968 non-null bool\n",
      "VIDEO_COUNT                     592968 non-null int64\n",
      "AUDIO_COUNT                     592968 non-null int64\n",
      "DOCUMENT_COUNT                  592968 non-null int64\n",
      "MEDIA_FILE_TYPE                 592339 non-null object\n",
      "IPRA_PORTAL_LABEL               592339 non-null object\n",
      "IPRA_URL                        592339 non-null object\n",
      "FILE_PROBLEMS                   592339 non-null object\n",
      "PUBLIC_FILE_NAME                592339 non-null object\n",
      "PUBLIC_URL                      592339 non-null object\n",
      "dtypes: bool(2), float64(13), int64(3), object(52)\n",
      "memory usage: 313.3+ MB\n"
     ]
    }
   ],
   "source": [
    "full.info()"
   ]
  },
  {
   "cell_type": "code",
   "execution_count": 19,
   "metadata": {
    "collapsed": false
   },
   "outputs": [],
   "source": [
    "cols = [col for col in full.columns if col != 'complaint_number']\n",
    "group = full.groupby('complaint_number')\n",
    "df_list = [group[col].unique().reset_index() for col in cols]"
   ]
  },
  {
   "cell_type": "code",
   "execution_count": 20,
   "metadata": {
    "collapsed": true
   },
   "outputs": [],
   "source": [
    "summary_df = df_list[0]\n",
    "for col_df in df_list[1:]:\n",
    "    summary_df = pd.merge(summary_df, col_df, on='complaint_number')"
   ]
  },
  {
   "cell_type": "code",
   "execution_count": 21,
   "metadata": {
    "collapsed": false
   },
   "outputs": [],
   "source": [
    "def clear_nans(x):\n",
    "    if len(x) == 1:\n",
    "        if ~(x[0]==x[0]):\n",
    "            return []\n",
    "        else:\n",
    "            return x\n",
    "    else:\n",
    "        return x"
   ]
  },
  {
   "cell_type": "code",
   "execution_count": 41,
   "metadata": {
    "collapsed": false
   },
   "outputs": [],
   "source": [
    "pd.options.display.max_rows = 100\n",
    "cols = summary_df.columns[1:]\n",
    "counts = summary_df[cols].applymap(lambda x: True if len(x)==1 & ~(x[0]==x[0]) else False)\\\n",
    "                .sum(axis=0)/len(summary_df)*100"
   ]
  },
  {
   "cell_type": "code",
   "execution_count": 47,
   "metadata": {
    "collapsed": false
   },
   "outputs": [
    {
     "data": {
      "text/plain": [
       "Index(['address', 'beat', 'current_category', 'current_category_code',\n",
       "       'current_status', 'incident_time_end', 'incident_time_start',\n",
       "       'initial_category', 'initial_category_code', 'involved_officer_age',\n",
       "       'involved_officer_fname', 'involved_officer_lname',\n",
       "       'involved_officer_position', 'involved_officer_race',\n",
       "       'involved_officer_sex', 'involved_officer_unit',\n",
       "       'ipra_investigator_firstname', 'ipra_investigator_lastname',\n",
       "       'location_code', 'notification_date', 'street', 'INCIDENT_TYPE',\n",
       "       'NOTIFICATION_DATE', 'INCIDENT_TIME_START', 'SUBJECT_1', 'SUBJECT_2',\n",
       "       'SUBJECT_3', 'SUBJECT_4', 'DOCS_WITHHELD_NOTES', 'HIPAA_WITHHELD',\n",
       "       'JUVENILE_WITHHELD', 'VIDEO_COUNT', 'AUDIO_COUNT', 'DOCUMENT_COUNT',\n",
       "       'MEDIA_FILE_TYPE', 'IPRA_PORTAL_LABEL', 'IPRA_URL', 'FILE_PROBLEMS',\n",
       "       'PUBLIC_FILE_NAME', 'PUBLIC_URL'],\n",
       "      dtype='object')"
      ]
     },
     "execution_count": 47,
     "metadata": {},
     "output_type": "execute_result"
    }
   ],
   "source": [
    "counts.index[(counts<20).values]"
   ]
  },
  {
   "cell_type": "code",
   "execution_count": 24,
   "metadata": {
    "collapsed": false
   },
   "outputs": [
    {
     "data": {
      "text/html": [
       "<div>\n",
       "<table border=\"1\" class=\"dataframe\">\n",
       "  <thead>\n",
       "    <tr style=\"text-align: right;\">\n",
       "      <th></th>\n",
       "      <th>police_shooting</th>\n",
       "      <th>police_shooting_no</th>\n",
       "    </tr>\n",
       "  </thead>\n",
       "  <tbody>\n",
       "    <tr>\n",
       "      <th>0</th>\n",
       "      <td>NaN</td>\n",
       "      <td>NaN</td>\n",
       "    </tr>\n",
       "    <tr>\n",
       "      <th>1</th>\n",
       "      <td>NaN</td>\n",
       "      <td>NaN</td>\n",
       "    </tr>\n",
       "    <tr>\n",
       "      <th>2</th>\n",
       "      <td>NaN</td>\n",
       "      <td>NaN</td>\n",
       "    </tr>\n",
       "    <tr>\n",
       "      <th>3</th>\n",
       "      <td>NaN</td>\n",
       "      <td>NaN</td>\n",
       "    </tr>\n",
       "    <tr>\n",
       "      <th>4</th>\n",
       "      <td>NaN</td>\n",
       "      <td>NaN</td>\n",
       "    </tr>\n",
       "    <tr>\n",
       "      <th>5</th>\n",
       "      <td>NaN</td>\n",
       "      <td>NaN</td>\n",
       "    </tr>\n",
       "    <tr>\n",
       "      <th>6</th>\n",
       "      <td>NaN</td>\n",
       "      <td>NaN</td>\n",
       "    </tr>\n",
       "    <tr>\n",
       "      <th>7</th>\n",
       "      <td>NaN</td>\n",
       "      <td>NaN</td>\n",
       "    </tr>\n",
       "    <tr>\n",
       "      <th>8</th>\n",
       "      <td>NaN</td>\n",
       "      <td>NaN</td>\n",
       "    </tr>\n",
       "    <tr>\n",
       "      <th>9</th>\n",
       "      <td>NaN</td>\n",
       "      <td>NaN</td>\n",
       "    </tr>\n",
       "    <tr>\n",
       "      <th>10</th>\n",
       "      <td>NaN</td>\n",
       "      <td>NaN</td>\n",
       "    </tr>\n",
       "    <tr>\n",
       "      <th>11</th>\n",
       "      <td>NaN</td>\n",
       "      <td>NaN</td>\n",
       "    </tr>\n",
       "    <tr>\n",
       "      <th>12</th>\n",
       "      <td>NaN</td>\n",
       "      <td>NaN</td>\n",
       "    </tr>\n",
       "    <tr>\n",
       "      <th>13</th>\n",
       "      <td>NaN</td>\n",
       "      <td>NaN</td>\n",
       "    </tr>\n",
       "    <tr>\n",
       "      <th>14</th>\n",
       "      <td>NaN</td>\n",
       "      <td>NaN</td>\n",
       "    </tr>\n",
       "    <tr>\n",
       "      <th>15</th>\n",
       "      <td>NaN</td>\n",
       "      <td>NaN</td>\n",
       "    </tr>\n",
       "    <tr>\n",
       "      <th>16</th>\n",
       "      <td>NaN</td>\n",
       "      <td>NaN</td>\n",
       "    </tr>\n",
       "    <tr>\n",
       "      <th>17</th>\n",
       "      <td>NaN</td>\n",
       "      <td>NaN</td>\n",
       "    </tr>\n",
       "    <tr>\n",
       "      <th>18</th>\n",
       "      <td>NaN</td>\n",
       "      <td>NaN</td>\n",
       "    </tr>\n",
       "    <tr>\n",
       "      <th>19</th>\n",
       "      <td>NaN</td>\n",
       "      <td>NaN</td>\n",
       "    </tr>\n",
       "    <tr>\n",
       "      <th>20</th>\n",
       "      <td>NaN</td>\n",
       "      <td>NaN</td>\n",
       "    </tr>\n",
       "    <tr>\n",
       "      <th>21</th>\n",
       "      <td>NaN</td>\n",
       "      <td>NaN</td>\n",
       "    </tr>\n",
       "    <tr>\n",
       "      <th>22</th>\n",
       "      <td>NaN</td>\n",
       "      <td>NaN</td>\n",
       "    </tr>\n",
       "    <tr>\n",
       "      <th>23</th>\n",
       "      <td>NaN</td>\n",
       "      <td>NaN</td>\n",
       "    </tr>\n",
       "    <tr>\n",
       "      <th>24</th>\n",
       "      <td>NaN</td>\n",
       "      <td>NaN</td>\n",
       "    </tr>\n",
       "    <tr>\n",
       "      <th>25</th>\n",
       "      <td>NaN</td>\n",
       "      <td>NaN</td>\n",
       "    </tr>\n",
       "    <tr>\n",
       "      <th>26</th>\n",
       "      <td>NaN</td>\n",
       "      <td>NaN</td>\n",
       "    </tr>\n",
       "    <tr>\n",
       "      <th>27</th>\n",
       "      <td>NaN</td>\n",
       "      <td>NaN</td>\n",
       "    </tr>\n",
       "    <tr>\n",
       "      <th>28</th>\n",
       "      <td>NaN</td>\n",
       "      <td>NaN</td>\n",
       "    </tr>\n",
       "    <tr>\n",
       "      <th>29</th>\n",
       "      <td>NaN</td>\n",
       "      <td>NaN</td>\n",
       "    </tr>\n",
       "    <tr>\n",
       "      <th>30</th>\n",
       "      <td>NaN</td>\n",
       "      <td>NaN</td>\n",
       "    </tr>\n",
       "    <tr>\n",
       "      <th>31</th>\n",
       "      <td>NaN</td>\n",
       "      <td>NaN</td>\n",
       "    </tr>\n",
       "    <tr>\n",
       "      <th>32</th>\n",
       "      <td>NaN</td>\n",
       "      <td>NaN</td>\n",
       "    </tr>\n",
       "    <tr>\n",
       "      <th>33</th>\n",
       "      <td>NaN</td>\n",
       "      <td>NaN</td>\n",
       "    </tr>\n",
       "    <tr>\n",
       "      <th>34</th>\n",
       "      <td>NaN</td>\n",
       "      <td>NaN</td>\n",
       "    </tr>\n",
       "    <tr>\n",
       "      <th>35</th>\n",
       "      <td>NaN</td>\n",
       "      <td>NaN</td>\n",
       "    </tr>\n",
       "    <tr>\n",
       "      <th>36</th>\n",
       "      <td>NaN</td>\n",
       "      <td>NaN</td>\n",
       "    </tr>\n",
       "    <tr>\n",
       "      <th>37</th>\n",
       "      <td>NaN</td>\n",
       "      <td>NaN</td>\n",
       "    </tr>\n",
       "    <tr>\n",
       "      <th>38</th>\n",
       "      <td>NaN</td>\n",
       "      <td>NaN</td>\n",
       "    </tr>\n",
       "    <tr>\n",
       "      <th>39</th>\n",
       "      <td>NaN</td>\n",
       "      <td>NaN</td>\n",
       "    </tr>\n",
       "    <tr>\n",
       "      <th>40</th>\n",
       "      <td>NaN</td>\n",
       "      <td>NaN</td>\n",
       "    </tr>\n",
       "    <tr>\n",
       "      <th>41</th>\n",
       "      <td>NaN</td>\n",
       "      <td>NaN</td>\n",
       "    </tr>\n",
       "    <tr>\n",
       "      <th>42</th>\n",
       "      <td>NaN</td>\n",
       "      <td>NaN</td>\n",
       "    </tr>\n",
       "    <tr>\n",
       "      <th>43</th>\n",
       "      <td>NaN</td>\n",
       "      <td>NaN</td>\n",
       "    </tr>\n",
       "    <tr>\n",
       "      <th>44</th>\n",
       "      <td>NaN</td>\n",
       "      <td>NaN</td>\n",
       "    </tr>\n",
       "    <tr>\n",
       "      <th>45</th>\n",
       "      <td>NaN</td>\n",
       "      <td>NaN</td>\n",
       "    </tr>\n",
       "    <tr>\n",
       "      <th>46</th>\n",
       "      <td>NaN</td>\n",
       "      <td>NaN</td>\n",
       "    </tr>\n",
       "    <tr>\n",
       "      <th>47</th>\n",
       "      <td>NaN</td>\n",
       "      <td>NaN</td>\n",
       "    </tr>\n",
       "    <tr>\n",
       "      <th>48</th>\n",
       "      <td>NaN</td>\n",
       "      <td>NaN</td>\n",
       "    </tr>\n",
       "    <tr>\n",
       "      <th>49</th>\n",
       "      <td>NaN</td>\n",
       "      <td>NaN</td>\n",
       "    </tr>\n",
       "    <tr>\n",
       "      <th>...</th>\n",
       "      <td>...</td>\n",
       "      <td>...</td>\n",
       "    </tr>\n",
       "    <tr>\n",
       "      <th>161206</th>\n",
       "      <td>Yes</td>\n",
       "      <td>08-012</td>\n",
       "    </tr>\n",
       "    <tr>\n",
       "      <th>161207</th>\n",
       "      <td>Yes</td>\n",
       "      <td>08-012</td>\n",
       "    </tr>\n",
       "    <tr>\n",
       "      <th>161208</th>\n",
       "      <td>Yes</td>\n",
       "      <td>08-012</td>\n",
       "    </tr>\n",
       "    <tr>\n",
       "      <th>161209</th>\n",
       "      <td>Yes</td>\n",
       "      <td>08-012</td>\n",
       "    </tr>\n",
       "    <tr>\n",
       "      <th>161210</th>\n",
       "      <td>Yes</td>\n",
       "      <td>08-012</td>\n",
       "    </tr>\n",
       "    <tr>\n",
       "      <th>161211</th>\n",
       "      <td>Yes</td>\n",
       "      <td>08-012</td>\n",
       "    </tr>\n",
       "    <tr>\n",
       "      <th>161212</th>\n",
       "      <td>Yes</td>\n",
       "      <td>08-012</td>\n",
       "    </tr>\n",
       "    <tr>\n",
       "      <th>161213</th>\n",
       "      <td>Yes</td>\n",
       "      <td>08-012</td>\n",
       "    </tr>\n",
       "    <tr>\n",
       "      <th>161214</th>\n",
       "      <td>Yes</td>\n",
       "      <td>08-012</td>\n",
       "    </tr>\n",
       "    <tr>\n",
       "      <th>161215</th>\n",
       "      <td>Yes</td>\n",
       "      <td>08-012</td>\n",
       "    </tr>\n",
       "    <tr>\n",
       "      <th>161216</th>\n",
       "      <td>Yes</td>\n",
       "      <td>08-012</td>\n",
       "    </tr>\n",
       "    <tr>\n",
       "      <th>161217</th>\n",
       "      <td>Yes</td>\n",
       "      <td>08-012</td>\n",
       "    </tr>\n",
       "    <tr>\n",
       "      <th>161218</th>\n",
       "      <td>Yes</td>\n",
       "      <td>08-012</td>\n",
       "    </tr>\n",
       "    <tr>\n",
       "      <th>161219</th>\n",
       "      <td>Yes</td>\n",
       "      <td>08-012</td>\n",
       "    </tr>\n",
       "    <tr>\n",
       "      <th>161220</th>\n",
       "      <td>Yes</td>\n",
       "      <td>08-012</td>\n",
       "    </tr>\n",
       "    <tr>\n",
       "      <th>161221</th>\n",
       "      <td>Yes</td>\n",
       "      <td>08-012</td>\n",
       "    </tr>\n",
       "    <tr>\n",
       "      <th>161222</th>\n",
       "      <td>Yes</td>\n",
       "      <td>08-012</td>\n",
       "    </tr>\n",
       "    <tr>\n",
       "      <th>161223</th>\n",
       "      <td>Yes</td>\n",
       "      <td>08-012</td>\n",
       "    </tr>\n",
       "    <tr>\n",
       "      <th>161224</th>\n",
       "      <td>Yes</td>\n",
       "      <td>08-040</td>\n",
       "    </tr>\n",
       "    <tr>\n",
       "      <th>161225</th>\n",
       "      <td>Yes</td>\n",
       "      <td>08-040</td>\n",
       "    </tr>\n",
       "    <tr>\n",
       "      <th>161226</th>\n",
       "      <td>Yes</td>\n",
       "      <td>08-040</td>\n",
       "    </tr>\n",
       "    <tr>\n",
       "      <th>161227</th>\n",
       "      <td>Yes</td>\n",
       "      <td>08-040</td>\n",
       "    </tr>\n",
       "    <tr>\n",
       "      <th>161228</th>\n",
       "      <td>Yes</td>\n",
       "      <td>08-040</td>\n",
       "    </tr>\n",
       "    <tr>\n",
       "      <th>161229</th>\n",
       "      <td>Yes</td>\n",
       "      <td>08-040</td>\n",
       "    </tr>\n",
       "    <tr>\n",
       "      <th>161230</th>\n",
       "      <td>Yes</td>\n",
       "      <td>08-040</td>\n",
       "    </tr>\n",
       "    <tr>\n",
       "      <th>161231</th>\n",
       "      <td>Yes</td>\n",
       "      <td>08-040</td>\n",
       "    </tr>\n",
       "    <tr>\n",
       "      <th>161232</th>\n",
       "      <td>Yes</td>\n",
       "      <td>08-040</td>\n",
       "    </tr>\n",
       "    <tr>\n",
       "      <th>161233</th>\n",
       "      <td>Yes</td>\n",
       "      <td>08-040</td>\n",
       "    </tr>\n",
       "    <tr>\n",
       "      <th>161234</th>\n",
       "      <td>Yes</td>\n",
       "      <td>08-040</td>\n",
       "    </tr>\n",
       "    <tr>\n",
       "      <th>161235</th>\n",
       "      <td>Yes</td>\n",
       "      <td>08-040</td>\n",
       "    </tr>\n",
       "    <tr>\n",
       "      <th>161236</th>\n",
       "      <td>Yes</td>\n",
       "      <td>08-040</td>\n",
       "    </tr>\n",
       "    <tr>\n",
       "      <th>161237</th>\n",
       "      <td>Yes</td>\n",
       "      <td>08-040</td>\n",
       "    </tr>\n",
       "    <tr>\n",
       "      <th>161238</th>\n",
       "      <td>Yes</td>\n",
       "      <td>08-040</td>\n",
       "    </tr>\n",
       "    <tr>\n",
       "      <th>161239</th>\n",
       "      <td>Yes</td>\n",
       "      <td>08-040</td>\n",
       "    </tr>\n",
       "    <tr>\n",
       "      <th>161240</th>\n",
       "      <td>Yes</td>\n",
       "      <td>08-040</td>\n",
       "    </tr>\n",
       "    <tr>\n",
       "      <th>161241</th>\n",
       "      <td>Yes</td>\n",
       "      <td>08-040</td>\n",
       "    </tr>\n",
       "    <tr>\n",
       "      <th>161242</th>\n",
       "      <td>Yes</td>\n",
       "      <td>08-040</td>\n",
       "    </tr>\n",
       "    <tr>\n",
       "      <th>161243</th>\n",
       "      <td>Yes</td>\n",
       "      <td>08-040</td>\n",
       "    </tr>\n",
       "    <tr>\n",
       "      <th>161244</th>\n",
       "      <td>Yes</td>\n",
       "      <td>08-040</td>\n",
       "    </tr>\n",
       "    <tr>\n",
       "      <th>161245</th>\n",
       "      <td>Yes</td>\n",
       "      <td>08-040</td>\n",
       "    </tr>\n",
       "    <tr>\n",
       "      <th>161246</th>\n",
       "      <td>Yes</td>\n",
       "      <td>08-040</td>\n",
       "    </tr>\n",
       "    <tr>\n",
       "      <th>161247</th>\n",
       "      <td>Yes</td>\n",
       "      <td>08-040</td>\n",
       "    </tr>\n",
       "    <tr>\n",
       "      <th>161248</th>\n",
       "      <td>Yes</td>\n",
       "      <td>08-040</td>\n",
       "    </tr>\n",
       "    <tr>\n",
       "      <th>161249</th>\n",
       "      <td>Yes</td>\n",
       "      <td>08-040</td>\n",
       "    </tr>\n",
       "    <tr>\n",
       "      <th>161250</th>\n",
       "      <td>Yes</td>\n",
       "      <td>08-040</td>\n",
       "    </tr>\n",
       "    <tr>\n",
       "      <th>161251</th>\n",
       "      <td>Yes</td>\n",
       "      <td>08-040</td>\n",
       "    </tr>\n",
       "    <tr>\n",
       "      <th>161252</th>\n",
       "      <td>Yes</td>\n",
       "      <td>08-040</td>\n",
       "    </tr>\n",
       "    <tr>\n",
       "      <th>161253</th>\n",
       "      <td>Yes</td>\n",
       "      <td>08-040</td>\n",
       "    </tr>\n",
       "    <tr>\n",
       "      <th>161254</th>\n",
       "      <td>Yes</td>\n",
       "      <td>08-040</td>\n",
       "    </tr>\n",
       "    <tr>\n",
       "      <th>161255</th>\n",
       "      <td>Yes</td>\n",
       "      <td>08-040</td>\n",
       "    </tr>\n",
       "  </tbody>\n",
       "</table>\n",
       "<p>161256 rows × 2 columns</p>\n",
       "</div>"
      ],
      "text/plain": [
       "       police_shooting police_shooting_no\n",
       "0                  NaN                NaN\n",
       "1                  NaN                NaN\n",
       "2                  NaN                NaN\n",
       "3                  NaN                NaN\n",
       "4                  NaN                NaN\n",
       "5                  NaN                NaN\n",
       "6                  NaN                NaN\n",
       "7                  NaN                NaN\n",
       "8                  NaN                NaN\n",
       "9                  NaN                NaN\n",
       "10                 NaN                NaN\n",
       "11                 NaN                NaN\n",
       "12                 NaN                NaN\n",
       "13                 NaN                NaN\n",
       "14                 NaN                NaN\n",
       "15                 NaN                NaN\n",
       "16                 NaN                NaN\n",
       "17                 NaN                NaN\n",
       "18                 NaN                NaN\n",
       "19                 NaN                NaN\n",
       "20                 NaN                NaN\n",
       "21                 NaN                NaN\n",
       "22                 NaN                NaN\n",
       "23                 NaN                NaN\n",
       "24                 NaN                NaN\n",
       "25                 NaN                NaN\n",
       "26                 NaN                NaN\n",
       "27                 NaN                NaN\n",
       "28                 NaN                NaN\n",
       "29                 NaN                NaN\n",
       "30                 NaN                NaN\n",
       "31                 NaN                NaN\n",
       "32                 NaN                NaN\n",
       "33                 NaN                NaN\n",
       "34                 NaN                NaN\n",
       "35                 NaN                NaN\n",
       "36                 NaN                NaN\n",
       "37                 NaN                NaN\n",
       "38                 NaN                NaN\n",
       "39                 NaN                NaN\n",
       "40                 NaN                NaN\n",
       "41                 NaN                NaN\n",
       "42                 NaN                NaN\n",
       "43                 NaN                NaN\n",
       "44                 NaN                NaN\n",
       "45                 NaN                NaN\n",
       "46                 NaN                NaN\n",
       "47                 NaN                NaN\n",
       "48                 NaN                NaN\n",
       "49                 NaN                NaN\n",
       "...                ...                ...\n",
       "161206             Yes             08-012\n",
       "161207             Yes             08-012\n",
       "161208             Yes             08-012\n",
       "161209             Yes             08-012\n",
       "161210             Yes             08-012\n",
       "161211             Yes             08-012\n",
       "161212             Yes             08-012\n",
       "161213             Yes             08-012\n",
       "161214             Yes             08-012\n",
       "161215             Yes             08-012\n",
       "161216             Yes             08-012\n",
       "161217             Yes             08-012\n",
       "161218             Yes             08-012\n",
       "161219             Yes             08-012\n",
       "161220             Yes             08-012\n",
       "161221             Yes             08-012\n",
       "161222             Yes             08-012\n",
       "161223             Yes             08-012\n",
       "161224             Yes             08-040\n",
       "161225             Yes             08-040\n",
       "161226             Yes             08-040\n",
       "161227             Yes             08-040\n",
       "161228             Yes             08-040\n",
       "161229             Yes             08-040\n",
       "161230             Yes             08-040\n",
       "161231             Yes             08-040\n",
       "161232             Yes             08-040\n",
       "161233             Yes             08-040\n",
       "161234             Yes             08-040\n",
       "161235             Yes             08-040\n",
       "161236             Yes             08-040\n",
       "161237             Yes             08-040\n",
       "161238             Yes             08-040\n",
       "161239             Yes             08-040\n",
       "161240             Yes             08-040\n",
       "161241             Yes             08-040\n",
       "161242             Yes             08-040\n",
       "161243             Yes             08-040\n",
       "161244             Yes             08-040\n",
       "161245             Yes             08-040\n",
       "161246             Yes             08-040\n",
       "161247             Yes             08-040\n",
       "161248             Yes             08-040\n",
       "161249             Yes             08-040\n",
       "161250             Yes             08-040\n",
       "161251             Yes             08-040\n",
       "161252             Yes             08-040\n",
       "161253             Yes             08-040\n",
       "161254             Yes             08-040\n",
       "161255             Yes             08-040\n",
       "\n",
       "[161256 rows x 2 columns]"
      ]
     },
     "execution_count": 24,
     "metadata": {},
     "output_type": "execute_result"
    }
   ],
   "source": [
    "combined_df[['police_shooting', 'police_shooting_no']].apply(pd.Series.unique, axis=1)"
   ]
  },
  {
   "cell_type": "code",
   "execution_count": 27,
   "metadata": {
    "collapsed": false
   },
   "outputs": [
    {
     "data": {
      "text/plain": [
       "array([nan, 'Yes', 'No'], dtype=object)"
      ]
     },
     "execution_count": 27,
     "metadata": {},
     "output_type": "execute_result"
    }
   ],
   "source": [
    "combined_df.police_shooting.unique()"
   ]
  },
  {
   "cell_type": "code",
   "execution_count": 41,
   "metadata": {
    "collapsed": false
   },
   "outputs": [],
   "source": [
    "#combined_df.police_shooting_no.unique()"
   ]
  },
  {
   "cell_type": "code",
   "execution_count": 38,
   "metadata": {
    "collapsed": false
   },
   "outputs": [],
   "source": [
    "mask = combined_df.initial_category_code.astype(str).apply(lambda x: True if '18' in x[:2] else False).values"
   ]
  },
  {
   "cell_type": "code",
   "execution_count": 40,
   "metadata": {
    "collapsed": false
   },
   "outputs": [],
   "source": [
    "#combined_df.initial_category_code[mask]"
   ]
  },
  {
   "cell_type": "code",
   "execution_count": 42,
   "metadata": {
    "collapsed": false
   },
   "outputs": [
    {
     "data": {
      "text/plain": [
       "array([nan, 'FIREARM DISCHARGE WITH HITS - HANDGUN',\n",
       "       'FIREARM DISCHARGE WITH HITS / ON DUTY',\n",
       "       'EXCESSIVE FORCE / ON DUTY - INJURY', 'MISCELLANEOUS',\n",
       "       'EXCESSIVE FORCE / ON DUTY - NO INJURY',\n",
       "       'UNNECESSARY PHYSICAL CONTACT / ON DUTY - NO INJURY',\n",
       "       'PROPER CARE - INJURY / DEATH',\n",
       "       'FIREARM DISCHARGE WITH HITS / OFF DUTY',\n",
       "       'EXCESSIVE FORCE / OFF DUTY - INJURY', 'SHOTS FIRED - NO HITS',\n",
       "       'CIVIL SUITS - THIRD PARTY ',\n",
       "       'EXCESSIVE FORCE - USE OF FIREARM / ON DUTY - NO INJURY'], dtype=object)"
      ]
     },
     "execution_count": 42,
     "metadata": {},
     "output_type": "execute_result"
    }
   ],
   "source": [
    "full.initial_category.unique()"
   ]
  },
  {
   "cell_type": "code",
   "execution_count": 47,
   "metadata": {
    "collapsed": false
   },
   "outputs": [
    {
     "data": {
      "text/plain": [
       "FIREARM DISCHARGE WITH HITS / ON DUTY                     564819\n",
       "EXCESSIVE FORCE / ON DUTY - INJURY                         16952\n",
       "FIREARM DISCHARGE WITH HITS / OFF DUTY                      2530\n",
       "FIREARM DISCHARGE WITH HITS - HANDGUN                       2321\n",
       "UNNECESSARY PHYSICAL CONTACT / ON DUTY - NO INJURY          2156\n",
       "EXCESSIVE FORCE / OFF DUTY - INJURY                         1590\n",
       "PROPER CARE - INJURY / DEATH                                1460\n",
       "SHOTS FIRED - NO HITS                                        449\n",
       "TAKE DOWN (THROWN TO GROUND)                                 216\n",
       "MISCELLANEOUS                                                156\n",
       "EXCESSIVE FORCE / ON DUTY - NO INJURY                        148\n",
       "EXCESSIVE FORCE - USE OF FIREARM / ON DUTY - NO INJURY       126\n",
       "CIVIL SUITS - THIRD PARTY                                     20\n",
       "Name: current_category, dtype: int64"
      ]
     },
     "execution_count": 47,
     "metadata": {},
     "output_type": "execute_result"
    }
   ],
   "source": [
    "full.current_category.value_counts()"
   ]
  },
  {
   "cell_type": "code",
   "execution_count": 48,
   "metadata": {
    "collapsed": false
   },
   "outputs": [
    {
     "data": {
      "text/plain": [
       "['accused_appointment_date',\n",
       " 'accused_detail',\n",
       " 'accused_officer_fname',\n",
       " 'accused_officer_lname',\n",
       " 'accused_position',\n",
       " 'accused_star',\n",
       " 'accused_unit',\n",
       " 'address',\n",
       " 'beat',\n",
       " 'complaint_date',\n",
       " 'complaint_number',\n",
       " 'converted_rec_i',\n",
       " 'cr_required',\n",
       " 'current_category',\n",
       " 'current_category_code',\n",
       " 'current_status',\n",
       " 'discipline_code',\n",
       " 'fileyr',\n",
       " 'finding_code',\n",
       " 'finding_id',\n",
       " 'iad_ops',\n",
       " 'incident_time_end',\n",
       " 'incident_time_start',\n",
       " 'initial_category',\n",
       " 'initial_category_code',\n",
       " 'involved_officer_age',\n",
       " 'involved_officer_description',\n",
       " 'involved_officer_detail',\n",
       " 'involved_officer_fname',\n",
       " 'involved_officer_lname',\n",
       " 'involved_officer_position',\n",
       " 'involved_officer_race',\n",
       " 'involved_officer_sex',\n",
       " 'involved_officer_type',\n",
       " 'involved_officer_unit',\n",
       " 'ipra_assign_date_time',\n",
       " 'ipra_closed_date',\n",
       " 'ipra_investigate_begin_date',\n",
       " 'ipra_investigate_end_date',\n",
       " 'ipra_investigator_firstname',\n",
       " 'ipra_investigator_lastname',\n",
       " 'ipra_investigator_type',\n",
       " 'location_code',\n",
       " 'notification_date',\n",
       " 'penalty_status',\n",
       " 'police_shooting',\n",
       " 'police_shooting_no',\n",
       " 'recommended_number_of_days',\n",
       " 'report_status',\n",
       " 'source',\n",
       " 'street']"
      ]
     },
     "execution_count": 48,
     "metadata": {},
     "output_type": "execute_result"
    }
   ],
   "source": [
    "sorted(combined_df.columns.tolist())"
   ]
  },
  {
   "cell_type": "code",
   "execution_count": 53,
   "metadata": {
    "collapsed": false
   },
   "outputs": [
    {
     "data": {
      "text/plain": [
       "array([  432.,   433.,  1331.,  1822.,   522.,   312.,   624.,  1122.,\n",
       "         734.,   821.,   512.,  1132.,   613.,   423.,  1611.,  1022.,\n",
       "        1834.,   911.,   621.,   123.,   811.,   511.,  1634.,  1113.,\n",
       "        1933.,   331.,   124.,  2234.,   225.,  1523.,     0.,  1333.,\n",
       "         113.,   733.,  2212.,   724.,   612.,   334.,  1821.,   934.,\n",
       "         313.,  1014.,   634.,  1133.,  1213.,   333.,   825.,  1633.,\n",
       "        2512.,  1013.,  1012.,  2531.,  1024.,  1134.,  1824.,   523.,\n",
       "         631.,   913.,  1512.,  1524.,   322.,   831.,  1111.,  3100.,\n",
       "        1522.,   622.,  1711.,   912.,   834.,  1031.,  2515.,   713.,\n",
       "         623.,   924.,   726.,   921.,  1731.,   531.,  2011.,   321.,\n",
       "        1115.,   732.,  2533.,   414.,  1733.,   422.,  1323.,  2511.,\n",
       "        1532.,  2432.,   735.,   632.,   131.,  2012.,   122.,  1712.,\n",
       "        1121.,   931.,   524.,   614.,   121.,   633.,   224.,   533.,\n",
       "         725.,  2413.,  2422.,  1114.,  1513.,  1034.,  2424.,  2535.,\n",
       "        1723.,  2033.,  1124.,  2233.,   513.,   723.,  1233.,  1112.,\n",
       "         231.,  1324.,  1924.,  1021.,  2031.,  1623.,   935.,  1531.,\n",
       "        1431.,  1921.,  1533.,  2532.,  1651.,   823.,  1913.,   714.,\n",
       "         933.,   822.,  1332.,   424.,   323.,  1032.,  2232.,  1135.,\n",
       "        1632.,   712.,   421.,  1131.,  1823.,  2522.,  2221.,   833.,\n",
       "         832.,  2223.,  1023.,   824.,   711.,  1914.,  1222.,  1211.,\n",
       "         835.,  1413.,  1613.,   915.,   611.,  2534.,  1812.,  1934.,\n",
       "         914.,  1424.,   812.,  1831.,   814.,  2514.,  1832.,  1423.,\n",
       "         214.,   815.,  1814.,   324.,  1724.,  1511.,  1311.,   431.,\n",
       "         411.,  2524.,  1011.,  1422.,   813.,   923.,  2213.,  1732.,\n",
       "         234.,   925.,  2222.,   412.,   715.,   731.,  1915.,  1432.,\n",
       "        1833.,  1125.,  2423.,   434.,   232.,  1631.,  1322.,  1421.,\n",
       "         311.,   532.,  1123.,   332.,   211.,  2211.,  1612.,  1923.,\n",
       "        1224.,  1911.,   133.,  1922.,  2411.,   413.,  1312.,  1033.,\n",
       "         114.,   235.,  2521.,  1624.,  2023.,  1433.,  1231.,  2013.,\n",
       "         223.,   922.,   722.,   213.,  2024.,  2412.,  1622.,  2022.,\n",
       "        1722.,  2431.,  1912.,   314.,  1813.,   212.,  1223.,  1434.,\n",
       "        1414.,  2525.,  1232.,  1932.,  1931.,   222.,  1925.,  4100.,\n",
       "        1621.,   233.,  1713.,   111.,  2433.,   932.,  1412.,   215.,\n",
       "         112.,  1411.,   132.,  1935.,  1811.,  2523.,  1221.,  2513.,\n",
       "        1234.,  1225.,  1235.,  1215.,  1653.,   221.,  1212.,  1614.,\n",
       "        1214.,  2032.,  1655.,  1654.,    nan,  2122.])"
      ]
     },
     "execution_count": 53,
     "metadata": {},
     "output_type": "execute_result"
    }
   ],
   "source": []
  },
  {
   "cell_type": "code",
   "execution_count": 55,
   "metadata": {
    "collapsed": false
   },
   "outputs": [
    {
     "data": {
      "text/plain": [
       "69"
      ]
     },
     "execution_count": 55,
     "metadata": {},
     "output_type": "execute_result"
    }
   ],
   "source": [
    "len(full.accused_officer_lname.unique())"
   ]
  },
  {
   "cell_type": "code",
   "execution_count": 56,
   "metadata": {
    "collapsed": false
   },
   "outputs": [
    {
     "data": {
      "text/plain": [
       "2268"
      ]
     },
     "execution_count": 56,
     "metadata": {},
     "output_type": "execute_result"
    }
   ],
   "source": [
    "len(combined_df.accused_officer_lname.unique())"
   ]
  },
  {
   "cell_type": "code",
   "execution_count": 57,
   "metadata": {
    "collapsed": true
   },
   "outputs": [],
   "source": [
    "combined_df['full_name'] = combined_df.accused_officer_lname.astype('str') + '_' + combined_df.accused_officer_fname.astype('str')"
   ]
  },
  {
   "cell_type": "code",
   "execution_count": 59,
   "metadata": {
    "collapsed": false
   },
   "outputs": [
    {
     "data": {
      "text/plain": [
       "3047"
      ]
     },
     "execution_count": 59,
     "metadata": {},
     "output_type": "execute_result"
    }
   ],
   "source": [
    "len(combined_df.full_name.unique())"
   ]
  },
  {
   "cell_type": "code",
   "execution_count": null,
   "metadata": {
    "collapsed": false
   },
   "outputs": [],
   "source": []
  },
  {
   "cell_type": "code",
   "execution_count": null,
   "metadata": {
    "collapsed": true
   },
   "outputs": [],
   "source": []
  }
 ],
 "metadata": {
  "kernelspec": {
   "display_name": "Python 3",
   "language": "python",
   "name": "python3"
  },
  "language_info": {
   "codemirror_mode": {
    "name": "ipython",
    "version": 3
   },
   "file_extension": ".py",
   "mimetype": "text/x-python",
   "name": "python",
   "nbconvert_exporter": "python",
   "pygments_lexer": "ipython3",
   "version": "3.5.1"
  }
 },
 "nbformat": 4,
 "nbformat_minor": 0
}
